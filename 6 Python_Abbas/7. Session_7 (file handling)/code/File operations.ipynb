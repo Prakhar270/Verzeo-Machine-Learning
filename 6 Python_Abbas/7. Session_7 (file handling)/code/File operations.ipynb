{
 "cells": [
  {
   "cell_type": "markdown",
   "metadata": {},
   "source": [
    "### Opening a file:"
   ]
  },
  {
   "cell_type": "markdown",
   "metadata": {},
   "source": [
    "To open a file we simply use open command and specify the path name and the mode. With the direct open command we have to \n",
    "close the file otherwise an instance of the file remains open."
   ]
  },
  {
   "cell_type": "code",
   "execution_count": 1,
   "metadata": {},
   "outputs": [
    {
     "name": "stdout",
     "output_type": "stream",
     "text": [
      "C:\\Users\\admin\\Desktop\\Python Training\\Numpy Pandas Dataset\\FileRw.txt\n"
     ]
    }
   ],
   "source": [
    "f = open(r\"C:\\Users\\admin\\Desktop\\Python Training\\Numpy Pandas Dataset\\FileRw.txt\",'r')\n",
    "print (f.name)\n",
    "f.close()"
   ]
  },
  {
   "cell_type": "markdown",
   "metadata": {},
   "source": [
    "### Opening a file with context manager"
   ]
  },
  {
   "cell_type": "markdown",
   "metadata": {},
   "source": [
    "As seen above I have used the f.close() method to close the file.\n",
    "In order to close the file automatically once the operation is done (or any exception) we use with command as below"
   ]
  },
  {
   "cell_type": "code",
   "execution_count": 2,
   "metadata": {},
   "outputs": [
    {
     "name": "stdout",
     "output_type": "stream",
     "text": [
      "True\n"
     ]
    }
   ],
   "source": [
    "with open (r\"C:\\Users\\admin\\Desktop\\Python Training\\Numpy Pandas Dataset\\FileRw.txt\") as f:\n",
    "    pass\n",
    "print (f.closed) #to check whether the file is closed, it returns True"
   ]
  },
  {
   "cell_type": "markdown",
   "metadata": {},
   "source": [
    "### Reading a file:"
   ]
  },
  {
   "cell_type": "markdown",
   "metadata": {},
   "source": [
    "f.read() reads the file completely,"
   ]
  },
  {
   "cell_type": "code",
   "execution_count": 3,
   "metadata": {},
   "outputs": [
    {
     "name": "stdout",
     "output_type": "stream",
     "text": [
      "['1) This is first line\\n', '2) This is second line\\n']\n"
     ]
    }
   ],
   "source": [
    "with open (r\"C:\\Users\\admin\\Desktop\\Python Training\\Numpy Pandas Dataset\\FileRw.txt\") as f:\n",
    "#     read_ = f.read()\n",
    "    readlines_ = f.readlines(30)\n",
    "print (readlines_)"
   ]
  },
  {
   "cell_type": "markdown",
   "metadata": {},
   "source": [
    "To read only a specific characters passed as an argument. If we go on excuting the same command multiple times, it goes on printinf next and next line."
   ]
  },
  {
   "cell_type": "code",
   "execution_count": 4,
   "metadata": {},
   "outputs": [
    {
     "name": "stdout",
     "output_type": "stream",
     "text": [
      "1) This is first line\n",
      "2) This is second line\n",
      "3) This is third line\n",
      "4) This is fourth line\n",
      "5) This is fifth line\n",
      "6) This is sixth line\n",
      "7) This is seventh line"
     ]
    }
   ],
   "source": [
    "with open (r\"C:\\Users\\admin\\Desktop\\Python Training\\Numpy Pandas Dataset\\FileRw.txt\") as f:\n",
    "    read_ = f.read(44)\n",
    "    print (read_,end='')\n",
    "    read_ = f.read(44)\n",
    "    print (read_,end='')\n",
    "    read_ = f.read(44)\n",
    "    print (read_,end='')\n",
    "    read_ = f.read(44)\n",
    "    print (read_,end='')"
   ]
  },
  {
   "cell_type": "markdown",
   "metadata": {},
   "source": [
    "But in case if we want to read the file partially only and not the whole file then we have other methods like readlines()"
   ]
  },
  {
   "cell_type": "code",
   "execution_count": 5,
   "metadata": {},
   "outputs": [
    {
     "name": "stdout",
     "output_type": "stream",
     "text": [
      "['1) This is first line\\n', '2) This is second line\\n', '3) This is third line\\n', '4) This is fourth line\\n', '5) This is fifth line\\n', '6) This is sixth line\\n', '7) This is seventh line']\n"
     ]
    }
   ],
   "source": [
    "with open (r\"C:\\Users\\admin\\Desktop\\Python Training\\Numpy Pandas Dataset\\FileRw.txt\") as f:\n",
    "    readlines_ = f.readlines()\n",
    "print(readlines_) #provides a list of all lines"
   ]
  },
  {
   "cell_type": "code",
   "execution_count": 6,
   "metadata": {},
   "outputs": [
    {
     "name": "stdout",
     "output_type": "stream",
     "text": [
      "1) This is first line\n",
      "2) This is second line\n"
     ]
    }
   ],
   "source": [
    "with open (r\"C:\\Users\\admin\\Desktop\\Python Training\\Numpy Pandas Dataset\\FileRw.txt\") as f:\n",
    "    readline_ = f.readline()\n",
    "    print(readline_,end='') #provides a single line\n",
    "    readline_ = f.readline()\n",
    "    print(readline_,end='')\n",
    "    #I can print multiple lines by calling the print function repeatedly"
   ]
  },
  {
   "cell_type": "markdown",
   "metadata": {},
   "source": [
    "Using For and while loops to read a file:"
   ]
  },
  {
   "cell_type": "code",
   "execution_count": 7,
   "metadata": {},
   "outputs": [
    {
     "name": "stdout",
     "output_type": "stream",
     "text": [
      "1) This is first line\n",
      "2) This is second line\n",
      "3) This is third line\n",
      "4) This is fourth line\n",
      "5) This is fifth line\n",
      "6) This is sixth line\n",
      "7) This is seventh line"
     ]
    }
   ],
   "source": [
    "with open (r\"C:\\Users\\admin\\Desktop\\Python Training\\Numpy Pandas Dataset\\FileRw.txt\") as f:\n",
    "    for i in f:\n",
    "        print (i,end='')"
   ]
  },
  {
   "cell_type": "code",
   "execution_count": 8,
   "metadata": {},
   "outputs": [
    {
     "name": "stdout",
     "output_type": "stream",
     "text": [
      "1) This is first line\n",
      "*2) This is second line*\n",
      "3) This is third line*\n",
      "4) This is fourth lin*e\n",
      "5) This is fifth lin*e\n",
      "6) This is sixth lin*e\n",
      "7) This is seventh l*ine*"
     ]
    }
   ],
   "source": [
    "with open (r\"C:\\Users\\admin\\Desktop\\Python Training\\Numpy Pandas Dataset\\FileRw.txt\") as f:\n",
    "    f_contents = f.read(22)\n",
    "    while len(f_contents)>0:\n",
    "        print (f_contents,end='*')\n",
    "        f_contents = f.read(22)"
   ]
  },
  {
   "cell_type": "markdown",
   "metadata": {},
   "source": [
    "f.seek() and f.tell\n",
    "\n",
    "f.tell() : it tells us the current location of the cursor in a file while reading a file\n",
    "\n",
    "f.seek() : brings the cursor to the position specified in the argument and starts printing from there again"
   ]
  },
  {
   "cell_type": "code",
   "execution_count": 9,
   "metadata": {},
   "outputs": [
    {
     "name": "stdout",
     "output_type": "stream",
     "text": [
      "1) This is first line\n",
      "\n",
      "irst line\n",
      "2) This is s\n"
     ]
    }
   ],
   "source": [
    "with open (r\"C:\\Users\\admin\\Desktop\\Python Training\\Numpy Pandas Dataset\\FileRw.txt\") as f:\n",
    "    f_contents = f.read(22)\n",
    "    print (f_contents)\n",
    "#     print (f.tell())\n",
    "    f.seek(12)\n",
    "    f_contents = f.read(22)\n",
    "    print (f_contents)"
   ]
  },
  {
   "cell_type": "markdown",
   "metadata": {},
   "source": [
    "### Writing a file:"
   ]
  },
  {
   "cell_type": "markdown",
   "metadata": {},
   "source": [
    "For reading a file we need to have a file at desired location, but for writing a file even if the file is not there the write will create a file and start inserting text in it."
   ]
  },
  {
   "cell_type": "code",
   "execution_count": 10,
   "metadata": {},
   "outputs": [],
   "source": [
    "with open (r\"C:\\Users\\admin\\Desktop\\Python Training\\Numpy Pandas Dataset\\FileWrite.txt\",'w') as f:\n",
    "    f.write('This is a demo write function\\n')\n",
    "    f.write('This is a demo Read write function')\n",
    "    #if I try to run the write function multiple times it will go on writing the text in the order."
   ]
  },
  {
   "cell_type": "markdown",
   "metadata": {},
   "source": [
    "### Copying contents of one file in the other file:\n"
   ]
  },
  {
   "cell_type": "code",
   "execution_count": 34,
   "metadata": {},
   "outputs": [],
   "source": [
    "with open(r\"C:\\Users\\admin\\Desktop\\Python Training\\Numpy Pandas Dataset\\FileRw.txt\",'r') as rf:\n",
    "    with open(r\"C:\\Users\\admin\\Desktop\\Python Training\\Numpy Pandas Dataset\\FileRw_copy.txt\",'w') as wf:\n",
    "        for lines_ in rf:\n",
    "            wf.write(lines_)\n",
    "        \n",
    "    "
   ]
  },
  {
   "cell_type": "code",
   "execution_count": 44,
   "metadata": {},
   "outputs": [],
   "source": [
    "#1)\n",
    "# with open(r\"C:\\Users\\admin\\Desktop\\Python Training\\Numpy Pandas Dataset\\watch.jpg\",'rb') as rf:\n",
    "#     with open(r\"C:\\Users\\admin\\Desktop\\Python Training\\Numpy Pandas Dataset\\watch_copy.jpg\",'wb') as wf:\n",
    "#         for lines_ in rf:\n",
    "#             wf.write(lines_)\n",
    "#2)\n",
    "with open(r\"C:\\Users\\admin\\Desktop\\Python Training\\Numpy Pandas Dataset\\watch.jpg\",'rb') as rf:\n",
    "    with open(r\"C:\\Users\\admin\\Desktop\\Python Training\\Numpy Pandas Dataset\\watch_copy.jpg\",'wb') as wf:\n",
    "        size = 30\n",
    "        content = rf.read(size)\n",
    "        while len(content)>0:\n",
    "            wf.write(content)\n",
    "            content = rf.read(size)\n",
    "    "
   ]
  },
  {
   "cell_type": "code",
   "execution_count": 43,
   "metadata": {},
   "outputs": [],
   "source": [
    "rf = ['abc','pqr','xyz']\n",
    "with open(r\"C:\\Users\\admin\\Desktop\\Python Training\\Numpy Pandas Dataset\\FileRw_copy.txt\",'a') as wf:\n",
    "    wf.seek(0)\n",
    "    for lines_ in x:\n",
    "        wf.write(lines_)\n",
    "        "
   ]
  },
  {
   "cell_type": "code",
   "execution_count": 41,
   "metadata": {},
   "outputs": [
    {
     "name": "stdout",
     "output_type": "stream",
     "text": [
      "['abc ', 'pqr ', 'xyz ']\n"
     ]
    }
   ],
   "source": [
    "x = []\n",
    "for i in rf:\n",
    "    x.append(i+' ')\n",
    "print (x)"
   ]
  },
  {
   "cell_type": "code",
   "execution_count": null,
   "metadata": {},
   "outputs": [],
   "source": []
  }
 ],
 "metadata": {
  "kernelspec": {
   "display_name": "Python 3",
   "language": "python",
   "name": "python3"
  },
  "language_info": {
   "codemirror_mode": {
    "name": "ipython",
    "version": 3
   },
   "file_extension": ".py",
   "mimetype": "text/x-python",
   "name": "python",
   "nbconvert_exporter": "python",
   "pygments_lexer": "ipython3",
   "version": "3.7.1"
  }
 },
 "nbformat": 4,
 "nbformat_minor": 2
}
