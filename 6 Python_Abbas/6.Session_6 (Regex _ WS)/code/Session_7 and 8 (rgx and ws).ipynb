{
 "cells": [
  {
   "cell_type": "markdown",
   "metadata": {},
   "source": [
    "### Pattern matching and Web Scraping"
   ]
  },
  {
   "cell_type": "markdown",
   "metadata": {},
   "source": [
    "It is used to describe a searh pattern,\n",
    "\n",
    "when we want to extract any pattern from the given raw data, for eg: mobile No., email id, client id etc."
   ]
  },
  {
   "cell_type": "code",
   "execution_count": 2,
   "metadata": {},
   "outputs": [
    {
     "name": "stdout",
     "output_type": "stream",
     "text": [
      "['25', '30', '28', '35']\n",
      "['David', 'Smith', 'Michael', 'Wayne']\n",
      "{'David': '25', 'Smith': '30', 'Michael': '28', 'Wayne': '35'}\n"
     ]
    }
   ],
   "source": [
    "#Searching a pattern in string 'findall' \n",
    "#findall returns list of matches\n",
    "import re \n",
    "Nameage = 'David is 25 and Smith is 30 /n Michael is 28 and Wayne is 35'\n",
    "ages = re.findall('\\d{1,2}',Nameage)\n",
    "print (ages)\n",
    "names = re.findall('[A-Z][a-z]*',Nameage)\n",
    "print (names)\n",
    "agedict ={}\n",
    "x=0\n",
    "for i in names:\n",
    "    agedict[i]=ages[x]\n",
    "    x+=1\n",
    "print (agedict)"
   ]
  },
  {
   "cell_type": "code",
   "execution_count": 4,
   "metadata": {},
   "outputs": [
    {
     "name": "stdout",
     "output_type": "stream",
     "text": [
      "match captured\n"
     ]
    }
   ],
   "source": [
    "#we can directly search for a string in a given string using 'search'\n",
    "#search returns a single match\n",
    "if re.search('match','I want to match the string'):\n",
    "    print ('match captured')"
   ]
  },
  {
   "cell_type": "code",
   "execution_count": 9,
   "metadata": {},
   "outputs": [
    {
     "name": "stdout",
     "output_type": "stream",
     "text": [
      "<re.Match object; span=(15, 20), match='regex'>\n",
      "(15, 20)\n",
      "<re.Match object; span=(32, 37), match='regex'>\n",
      "(32, 37)\n"
     ]
    }
   ],
   "source": [
    "# #to get the index range of the pattern match\n",
    "str_ = 'This is a demo regex prog for a regex understanding'\n",
    "for i in re.finditer('regex',str_):\n",
    "    print (i)\n",
    "    index = i.span()\n",
    "    print (index)\n"
   ]
  },
  {
   "cell_type": "code",
   "execution_count": 15,
   "metadata": {},
   "outputs": [
    {
     "data": {
      "text/plain": [
       "'Java python c++ ruby python'"
      ]
     },
     "execution_count": 15,
     "metadata": {},
     "output_type": "execute_result"
    }
   ],
   "source": [
    "#compile method which catches patterns and provide method to substitute\n",
    "demo = 'Java html c++ ruby html'\n",
    "object_ = re.compile('html') #matching objects with compile\n",
    "sub_ = object_.sub('python',demo)\n",
    "sub_"
   ]
  },
  {
   "cell_type": "code",
   "execution_count": 17,
   "metadata": {},
   "outputs": [
    {
     "name": "stdout",
     "output_type": "stream",
     "text": [
      "Matches : 4\n"
     ]
    }
   ],
   "source": [
    "num = '123 1234 12345 123456 1234567 87654321'\n",
    "print ('Matches :', len(re.findall(r'\\d{5,7}' , num))) #use len to give the count of the number of matches"
   ]
  },
  {
   "cell_type": "markdown",
   "metadata": {},
   "source": [
    "### Web Scraping"
   ]
  },
  {
   "cell_type": "markdown",
   "metadata": {},
   "source": [
    "Scrap useful data from web and store it in csv format or excel format."
   ]
  },
  {
   "cell_type": "code",
   "execution_count": 81,
   "metadata": {},
   "outputs": [],
   "source": [
    "#Zomato customer care India\n",
    "import urllib.request\n",
    "import re\n",
    "url = 'http://www.talkingtrendo.com/zomato-customer-care-number-address-contact-number/'\n",
    "# url = 'http://www.arrl.org/list-all-products'\n",
    "response=urllib.request.urlopen(url)\n",
    "html = response.read()\n",
    "htmlstr=html.decode()\n",
    "data=re.findall('\\d{3} – \\d{8}',htmlstr)\n",
    "for i in data:\n",
    "    print (i) "
   ]
  },
  {
   "cell_type": "code",
   "execution_count": 21,
   "metadata": {},
   "outputs": [
    {
     "name": "stdout",
     "output_type": "stream",
     "text": [
      "{'Michael': '25'}\n",
      "my name is Michael and my age is 26 , Michael\n",
      "(11, 18)\n",
      "(38, 45)\n"
     ]
    }
   ],
   "source": [
    "import re\n",
    "x = 'my name is Michael and my age is 25 , Michael'\n",
    "name = re.findall('[A-Z][a-z]*',x)\n",
    "age = re.findall ('\\d{1,2}',x)\n",
    "nameage={}\n",
    "j=0\n",
    "for i in name:\n",
    "    nameage[i]=age[j]\n",
    "print (nameage)\n",
    "\n",
    "if re.search('Abbas',x):\n",
    "    print ('match captured')\n",
    "\n",
    "obj = re.compile('25')\n",
    "obj1 = obj.sub('26',x)\n",
    "print (obj1)\n",
    "\n",
    "for i in re.finditer('Michael',x):\n",
    "    index = i.span()\n",
    "\n",
    "    print (index)"
   ]
  },
  {
   "cell_type": "code",
   "execution_count": 77,
   "metadata": {},
   "outputs": [
    {
     "data": {
      "text/plain": [
       "'Michael is learning python'"
      ]
     },
     "execution_count": 77,
     "metadata": {},
     "output_type": "execute_result"
    }
   ],
   "source": [
    "s = 'Rahul is learning python'\n",
    "name = re.compile('[A-Z][a-z]*')\n",
    "new_s = name.sub('Michael',s)\n",
    "new_s\n"
   ]
  },
  {
   "cell_type": "code",
   "execution_count": null,
   "metadata": {},
   "outputs": [],
   "source": []
  }
 ],
 "metadata": {
  "kernelspec": {
   "display_name": "Python 3",
   "language": "python",
   "name": "python3"
  },
  "language_info": {
   "codemirror_mode": {
    "name": "ipython",
    "version": 3
   },
   "file_extension": ".py",
   "mimetype": "text/x-python",
   "name": "python",
   "nbconvert_exporter": "python",
   "pygments_lexer": "ipython3",
   "version": "3.7.1"
  }
 },
 "nbformat": 4,
 "nbformat_minor": 2
}
