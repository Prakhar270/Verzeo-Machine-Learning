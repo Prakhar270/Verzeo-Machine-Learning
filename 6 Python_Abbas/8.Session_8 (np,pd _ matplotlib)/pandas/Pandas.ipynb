{
 "cells": [
  {
   "cell_type": "markdown",
   "metadata": {},
   "source": [
    "### Pandas:"
   ]
  },
  {
   "cell_type": "markdown",
   "metadata": {},
   "source": [
    "Pandas is mainly used for data cleaning/wrangling/munging or ETL (extract,transform,load) operations. Pandas store data which is mainly in the form of data-frames. The pandas data frame is similar to MS-excel (it has rows and columns)"
   ]
  },
  {
   "cell_type": "markdown",
   "metadata": {},
   "source": [
    "#### Reading data"
   ]
  },
  {
   "cell_type": "code",
   "execution_count": 29,
   "metadata": {},
   "outputs": [],
   "source": [
    "import pandas as pd"
   ]
  },
  {
   "cell_type": "code",
   "execution_count": 30,
   "metadata": {},
   "outputs": [
    {
     "name": "stdout",
     "output_type": "stream",
     "text": [
      "Index(['preg_count', 'glucose', 'BP', 'skin_thick', 'insulin', 'BMI',\n",
      "       'pedigree', 'age', 'class', 'names'],\n",
      "      dtype='object')\n"
     ]
    },
    {
     "data": {
      "text/html": [
       "<div>\n",
       "<style scoped>\n",
       "    .dataframe tbody tr th:only-of-type {\n",
       "        vertical-align: middle;\n",
       "    }\n",
       "\n",
       "    .dataframe tbody tr th {\n",
       "        vertical-align: top;\n",
       "    }\n",
       "\n",
       "    .dataframe thead th {\n",
       "        text-align: right;\n",
       "    }\n",
       "</style>\n",
       "<table border=\"1\" class=\"dataframe\">\n",
       "  <thead>\n",
       "    <tr style=\"text-align: right;\">\n",
       "      <th></th>\n",
       "      <th>preg_count</th>\n",
       "      <th>glucose</th>\n",
       "      <th>BP</th>\n",
       "      <th>skin_thick</th>\n",
       "      <th>insulin</th>\n",
       "      <th>BMI</th>\n",
       "      <th>pedigree</th>\n",
       "      <th>age</th>\n",
       "      <th>class</th>\n",
       "      <th>names</th>\n",
       "    </tr>\n",
       "  </thead>\n",
       "  <tbody>\n",
       "    <tr>\n",
       "      <th>1</th>\n",
       "      <td>6.0</td>\n",
       "      <td>148</td>\n",
       "      <td>70.0</td>\n",
       "      <td>20.0</td>\n",
       "      <td>0.0</td>\n",
       "      <td>28.2</td>\n",
       "      <td>0.526</td>\n",
       "      <td>38</td>\n",
       "      <td>1</td>\n",
       "      <td>xyz</td>\n",
       "    </tr>\n",
       "    <tr>\n",
       "      <th>2</th>\n",
       "      <td>NaN</td>\n",
       "      <td>85</td>\n",
       "      <td>71.0</td>\n",
       "      <td>21.0</td>\n",
       "      <td>0.0</td>\n",
       "      <td>29.2</td>\n",
       "      <td>1.526</td>\n",
       "      <td>39</td>\n",
       "      <td>1</td>\n",
       "      <td>pqr</td>\n",
       "    </tr>\n",
       "    <tr>\n",
       "      <th>3</th>\n",
       "      <td>8.0</td>\n",
       "      <td>69</td>\n",
       "      <td>72.0</td>\n",
       "      <td>22.0</td>\n",
       "      <td>0.0</td>\n",
       "      <td>30.2</td>\n",
       "      <td>2.526</td>\n",
       "      <td>40</td>\n",
       "      <td>0</td>\n",
       "      <td>abc</td>\n",
       "    </tr>\n",
       "    <tr>\n",
       "      <th>4</th>\n",
       "      <td>1.0</td>\n",
       "      <td>156</td>\n",
       "      <td>73.0</td>\n",
       "      <td>23.0</td>\n",
       "      <td>0.0</td>\n",
       "      <td>31.2</td>\n",
       "      <td>3.526</td>\n",
       "      <td>41</td>\n",
       "      <td>1</td>\n",
       "      <td>an</td>\n",
       "    </tr>\n",
       "    <tr>\n",
       "      <th>5</th>\n",
       "      <td>7.0</td>\n",
       "      <td>123</td>\n",
       "      <td>74.0</td>\n",
       "      <td>24.0</td>\n",
       "      <td>45.0</td>\n",
       "      <td>32.2</td>\n",
       "      <td>4.526</td>\n",
       "      <td>42</td>\n",
       "      <td>1</td>\n",
       "      <td>asdg</td>\n",
       "    </tr>\n",
       "  </tbody>\n",
       "</table>\n",
       "</div>"
      ],
      "text/plain": [
       "   preg_count  glucose    BP  skin_thick  insulin   BMI  pedigree  age  class  \\\n",
       "1         6.0      148  70.0        20.0      0.0  28.2     0.526   38      1   \n",
       "2         NaN       85  71.0        21.0      0.0  29.2     1.526   39      1   \n",
       "3         8.0       69  72.0        22.0      0.0  30.2     2.526   40      0   \n",
       "4         1.0      156  73.0        23.0      0.0  31.2     3.526   41      1   \n",
       "5         7.0      123  74.0        24.0     45.0  32.2     4.526   42      1   \n",
       "\n",
       "  names  \n",
       "1   xyz  \n",
       "2   pqr  \n",
       "3   abc  \n",
       "4    an  \n",
       "5  asdg  "
      ]
     },
     "execution_count": 30,
     "metadata": {},
     "output_type": "execute_result"
    }
   ],
   "source": [
    "#pandas has capbility to read data from common file formats like excel,csv,json etc\n",
    "#importing data from csv format:\n",
    "cols = ['preg_count','glucose','BP','skin_thick','insulin','BMI','pedigree','age','class','names']\n",
    "df_csv = pd.read_csv(r\"C:\\Users\\admin\\Desktop\\Pandas_sample_data - Copy.csv\",header = None, names=cols)\n",
    "print (df_csv.columns)\n",
    "df_csv.head()"
   ]
  },
  {
   "cell_type": "code",
   "execution_count": 31,
   "metadata": {},
   "outputs": [
    {
     "data": {
      "text/html": [
       "<div>\n",
       "<style scoped>\n",
       "    .dataframe tbody tr th:only-of-type {\n",
       "        vertical-align: middle;\n",
       "    }\n",
       "\n",
       "    .dataframe tbody tr th {\n",
       "        vertical-align: top;\n",
       "    }\n",
       "\n",
       "    .dataframe thead th {\n",
       "        text-align: right;\n",
       "    }\n",
       "</style>\n",
       "<table border=\"1\" class=\"dataframe\">\n",
       "  <thead>\n",
       "    <tr style=\"text-align: right;\">\n",
       "      <th></th>\n",
       "      <th>preg_count</th>\n",
       "      <th>glucose</th>\n",
       "      <th>BP</th>\n",
       "      <th>skin_thick</th>\n",
       "      <th>insulin</th>\n",
       "      <th>BMI</th>\n",
       "      <th>pedigree</th>\n",
       "      <th>age</th>\n",
       "      <th>class</th>\n",
       "      <th>gender</th>\n",
       "      <th>names</th>\n",
       "    </tr>\n",
       "  </thead>\n",
       "  <tbody>\n",
       "    <tr>\n",
       "      <th>1</th>\n",
       "      <td>6.0</td>\n",
       "      <td>148.0</td>\n",
       "      <td>70.0</td>\n",
       "      <td>20.0</td>\n",
       "      <td>0.0</td>\n",
       "      <td>28.2</td>\n",
       "      <td>0.526</td>\n",
       "      <td>38</td>\n",
       "      <td>1</td>\n",
       "      <td>M</td>\n",
       "      <td>NaN</td>\n",
       "    </tr>\n",
       "    <tr>\n",
       "      <th>2</th>\n",
       "      <td>NaN</td>\n",
       "      <td>85.0</td>\n",
       "      <td>71.0</td>\n",
       "      <td>21.0</td>\n",
       "      <td>0.0</td>\n",
       "      <td>NaN</td>\n",
       "      <td>1.526</td>\n",
       "      <td>39</td>\n",
       "      <td>1</td>\n",
       "      <td>F</td>\n",
       "      <td>NaN</td>\n",
       "    </tr>\n",
       "    <tr>\n",
       "      <th>3</th>\n",
       "      <td>8.0</td>\n",
       "      <td>110.0</td>\n",
       "      <td>72.0</td>\n",
       "      <td>22.0</td>\n",
       "      <td>0.0</td>\n",
       "      <td>30.2</td>\n",
       "      <td>2.526</td>\n",
       "      <td>150</td>\n",
       "      <td>0</td>\n",
       "      <td>M</td>\n",
       "      <td>NaN</td>\n",
       "    </tr>\n",
       "    <tr>\n",
       "      <th>4</th>\n",
       "      <td>1.0</td>\n",
       "      <td>156.0</td>\n",
       "      <td>73.0</td>\n",
       "      <td>23.0</td>\n",
       "      <td>0.0</td>\n",
       "      <td>31.2</td>\n",
       "      <td>3.526</td>\n",
       "      <td>41</td>\n",
       "      <td>1</td>\n",
       "      <td>M</td>\n",
       "      <td>NaN</td>\n",
       "    </tr>\n",
       "    <tr>\n",
       "      <th>5</th>\n",
       "      <td>7.0</td>\n",
       "      <td>123.0</td>\n",
       "      <td>74.0</td>\n",
       "      <td>24.0</td>\n",
       "      <td>45.0</td>\n",
       "      <td>32.2</td>\n",
       "      <td>4.526</td>\n",
       "      <td>42</td>\n",
       "      <td>1</td>\n",
       "      <td>M</td>\n",
       "      <td>NaN</td>\n",
       "    </tr>\n",
       "  </tbody>\n",
       "</table>\n",
       "</div>"
      ],
      "text/plain": [
       "   preg_count  glucose    BP  skin_thick  insulin   BMI  pedigree  age  class  \\\n",
       "1         6.0    148.0  70.0        20.0      0.0  28.2     0.526   38      1   \n",
       "2         NaN     85.0  71.0        21.0      0.0   NaN     1.526   39      1   \n",
       "3         8.0    110.0  72.0        22.0      0.0  30.2     2.526  150      0   \n",
       "4         1.0    156.0  73.0        23.0      0.0  31.2     3.526   41      1   \n",
       "5         7.0    123.0  74.0        24.0     45.0  32.2     4.526   42      1   \n",
       "\n",
       "  gender  names  \n",
       "1      M    NaN  \n",
       "2      F    NaN  \n",
       "3      M    NaN  \n",
       "4      M    NaN  \n",
       "5      M    NaN  "
      ]
     },
     "execution_count": 31,
     "metadata": {},
     "output_type": "execute_result"
    }
   ],
   "source": [
    "#Importing data from excel format:\n",
    "df_excel = pd.read_excel(r\"C:\\Users\\admin\\Desktop\\Pandas_sample_data - Copy.xlsx\")\n",
    "df_excel.head()"
   ]
  },
  {
   "cell_type": "code",
   "execution_count": 32,
   "metadata": {},
   "outputs": [
    {
     "data": {
      "text/html": [
       "<div>\n",
       "<style scoped>\n",
       "    .dataframe tbody tr th:only-of-type {\n",
       "        vertical-align: middle;\n",
       "    }\n",
       "\n",
       "    .dataframe tbody tr th {\n",
       "        vertical-align: top;\n",
       "    }\n",
       "\n",
       "    .dataframe thead th {\n",
       "        text-align: right;\n",
       "    }\n",
       "</style>\n",
       "<table border=\"1\" class=\"dataframe\">\n",
       "  <thead>\n",
       "    <tr style=\"text-align: right;\">\n",
       "      <th></th>\n",
       "      <th>preg_count</th>\n",
       "      <th>glucose</th>\n",
       "      <th>BP</th>\n",
       "    </tr>\n",
       "  </thead>\n",
       "  <tbody>\n",
       "    <tr>\n",
       "      <th>0</th>\n",
       "      <td>10</td>\n",
       "      <td>123</td>\n",
       "      <td>70</td>\n",
       "    </tr>\n",
       "    <tr>\n",
       "      <th>1</th>\n",
       "      <td>12</td>\n",
       "      <td>145</td>\n",
       "      <td>72</td>\n",
       "    </tr>\n",
       "    <tr>\n",
       "      <th>2</th>\n",
       "      <td>9</td>\n",
       "      <td>126</td>\n",
       "      <td>75</td>\n",
       "    </tr>\n",
       "    <tr>\n",
       "      <th>3</th>\n",
       "      <td>6</td>\n",
       "      <td>120</td>\n",
       "      <td>77</td>\n",
       "    </tr>\n",
       "    <tr>\n",
       "      <th>4</th>\n",
       "      <td>15</td>\n",
       "      <td>110</td>\n",
       "      <td>79</td>\n",
       "    </tr>\n",
       "  </tbody>\n",
       "</table>\n",
       "</div>"
      ],
      "text/plain": [
       "   preg_count  glucose  BP\n",
       "0          10      123  70\n",
       "1          12      145  72\n",
       "2           9      126  75\n",
       "3           6      120  77\n",
       "4          15      110  79"
      ]
     },
     "execution_count": 32,
     "metadata": {},
     "output_type": "execute_result"
    }
   ],
   "source": [
    "#Reading data from dictionary(Json format):\n",
    "df_dict = {'preg_count':[10,12,9,6,15],'glucose':[123,145,126,120,110],'BP':[70,72,75,77,79]}\n",
    "pd.DataFrame.from_dict(df_dict)\n",
    "# df_dict['BP'][:3]"
   ]
  },
  {
   "cell_type": "markdown",
   "metadata": {},
   "source": [
    "#### Exploring data"
   ]
  },
  {
   "cell_type": "code",
   "execution_count": 33,
   "metadata": {},
   "outputs": [
    {
     "data": {
      "text/plain": [
       "preg_count    float64\n",
       "glucose       float64\n",
       "BP            float64\n",
       "skin_thick    float64\n",
       "insulin       float64\n",
       "BMI           float64\n",
       "pedigree      float64\n",
       "age             int64\n",
       "class           int64\n",
       "gender         object\n",
       "names         float64\n",
       "dtype: object"
      ]
     },
     "execution_count": 33,
     "metadata": {},
     "output_type": "execute_result"
    }
   ],
   "source": [
    "df_excel.dtypes #returns the data-type of each field"
   ]
  },
  {
   "cell_type": "code",
   "execution_count": 34,
   "metadata": {},
   "outputs": [
    {
     "name": "stdout",
     "output_type": "stream",
     "text": [
      "<class 'pandas.core.frame.DataFrame'>\n",
      "Int64Index: 30 entries, 1 to 30\n",
      "Data columns (total 11 columns):\n",
      "preg_count    24 non-null float64\n",
      "glucose       29 non-null float64\n",
      "BP            28 non-null float64\n",
      "skin_thick    26 non-null float64\n",
      "insulin       29 non-null float64\n",
      "BMI           29 non-null float64\n",
      "pedigree      30 non-null float64\n",
      "age           30 non-null int64\n",
      "class         30 non-null int64\n",
      "gender        30 non-null object\n",
      "names         0 non-null float64\n",
      "dtypes: float64(8), int64(2), object(1)\n",
      "memory usage: 2.8+ KB\n"
     ]
    }
   ],
   "source": [
    "df_excel.info() #returns no. of not-null values and data-types in each field"
   ]
  },
  {
   "cell_type": "code",
   "execution_count": 35,
   "metadata": {},
   "outputs": [
    {
     "data": {
      "text/plain": [
       "1.0    5\n",
       "2.0    4\n",
       "3.0    2\n",
       "5.0    3\n",
       "6.0    3\n",
       "7.0    3\n",
       "8.0    2\n",
       "9.0    2\n",
       "Name: preg_count, dtype: int64"
      ]
     },
     "execution_count": 35,
     "metadata": {},
     "output_type": "execute_result"
    }
   ],
   "source": [
    "df_excel['preg_count'].value_counts().sort_index() #gives the value count sorted by the index, number of times each value repeats itself"
   ]
  },
  {
   "cell_type": "code",
   "execution_count": 36,
   "metadata": {},
   "outputs": [
    {
     "data": {
      "text/html": [
       "<div>\n",
       "<style scoped>\n",
       "    .dataframe tbody tr th:only-of-type {\n",
       "        vertical-align: middle;\n",
       "    }\n",
       "\n",
       "    .dataframe tbody tr th {\n",
       "        vertical-align: top;\n",
       "    }\n",
       "\n",
       "    .dataframe thead th {\n",
       "        text-align: right;\n",
       "    }\n",
       "</style>\n",
       "<table border=\"1\" class=\"dataframe\">\n",
       "  <thead>\n",
       "    <tr style=\"text-align: right;\">\n",
       "      <th></th>\n",
       "      <th>preg_count</th>\n",
       "      <th>glucose</th>\n",
       "      <th>BP</th>\n",
       "      <th>skin_thick</th>\n",
       "      <th>insulin</th>\n",
       "      <th>BMI</th>\n",
       "      <th>pedigree</th>\n",
       "      <th>age</th>\n",
       "      <th>class</th>\n",
       "      <th>names</th>\n",
       "    </tr>\n",
       "  </thead>\n",
       "  <tbody>\n",
       "    <tr>\n",
       "      <th>count</th>\n",
       "      <td>24.000000</td>\n",
       "      <td>29.000000</td>\n",
       "      <td>28.000000</td>\n",
       "      <td>26.000000</td>\n",
       "      <td>29.000000</td>\n",
       "      <td>29.000000</td>\n",
       "      <td>30.000000</td>\n",
       "      <td>30.000000</td>\n",
       "      <td>30.000000</td>\n",
       "      <td>0.0</td>\n",
       "    </tr>\n",
       "    <tr>\n",
       "      <th>mean</th>\n",
       "      <td>4.458333</td>\n",
       "      <td>121.275862</td>\n",
       "      <td>84.392857</td>\n",
       "      <td>33.884615</td>\n",
       "      <td>12.413793</td>\n",
       "      <td>43.165517</td>\n",
       "      <td>15.026000</td>\n",
       "      <td>56.166667</td>\n",
       "      <td>0.700000</td>\n",
       "      <td>NaN</td>\n",
       "    </tr>\n",
       "    <tr>\n",
       "      <th>std</th>\n",
       "      <td>2.812691</td>\n",
       "      <td>34.772625</td>\n",
       "      <td>9.048590</td>\n",
       "      <td>8.769615</td>\n",
       "      <td>25.415852</td>\n",
       "      <td>8.575225</td>\n",
       "      <td>8.803408</td>\n",
       "      <td>19.647029</td>\n",
       "      <td>0.466092</td>\n",
       "      <td>NaN</td>\n",
       "    </tr>\n",
       "    <tr>\n",
       "      <th>min</th>\n",
       "      <td>1.000000</td>\n",
       "      <td>72.000000</td>\n",
       "      <td>70.000000</td>\n",
       "      <td>20.000000</td>\n",
       "      <td>0.000000</td>\n",
       "      <td>28.200000</td>\n",
       "      <td>0.526000</td>\n",
       "      <td>38.000000</td>\n",
       "      <td>0.000000</td>\n",
       "      <td>NaN</td>\n",
       "    </tr>\n",
       "    <tr>\n",
       "      <th>25%</th>\n",
       "      <td>2.000000</td>\n",
       "      <td>85.000000</td>\n",
       "      <td>76.750000</td>\n",
       "      <td>26.250000</td>\n",
       "      <td>2.000000</td>\n",
       "      <td>36.200000</td>\n",
       "      <td>7.776000</td>\n",
       "      <td>46.250000</td>\n",
       "      <td>0.000000</td>\n",
       "      <td>NaN</td>\n",
       "    </tr>\n",
       "    <tr>\n",
       "      <th>50%</th>\n",
       "      <td>5.000000</td>\n",
       "      <td>123.000000</td>\n",
       "      <td>84.500000</td>\n",
       "      <td>34.500000</td>\n",
       "      <td>5.000000</td>\n",
       "      <td>43.200000</td>\n",
       "      <td>15.026000</td>\n",
       "      <td>53.500000</td>\n",
       "      <td>1.000000</td>\n",
       "      <td>NaN</td>\n",
       "    </tr>\n",
       "    <tr>\n",
       "      <th>75%</th>\n",
       "      <td>7.000000</td>\n",
       "      <td>156.000000</td>\n",
       "      <td>92.250000</td>\n",
       "      <td>40.750000</td>\n",
       "      <td>8.000000</td>\n",
       "      <td>50.200000</td>\n",
       "      <td>22.276000</td>\n",
       "      <td>60.750000</td>\n",
       "      <td>1.000000</td>\n",
       "      <td>NaN</td>\n",
       "    </tr>\n",
       "    <tr>\n",
       "      <th>max</th>\n",
       "      <td>9.000000</td>\n",
       "      <td>178.000000</td>\n",
       "      <td>99.000000</td>\n",
       "      <td>48.000000</td>\n",
       "      <td>124.000000</td>\n",
       "      <td>57.200000</td>\n",
       "      <td>29.526000</td>\n",
       "      <td>150.000000</td>\n",
       "      <td>1.000000</td>\n",
       "      <td>NaN</td>\n",
       "    </tr>\n",
       "  </tbody>\n",
       "</table>\n",
       "</div>"
      ],
      "text/plain": [
       "       preg_count     glucose         BP  skin_thick     insulin        BMI  \\\n",
       "count   24.000000   29.000000  28.000000   26.000000   29.000000  29.000000   \n",
       "mean     4.458333  121.275862  84.392857   33.884615   12.413793  43.165517   \n",
       "std      2.812691   34.772625   9.048590    8.769615   25.415852   8.575225   \n",
       "min      1.000000   72.000000  70.000000   20.000000    0.000000  28.200000   \n",
       "25%      2.000000   85.000000  76.750000   26.250000    2.000000  36.200000   \n",
       "50%      5.000000  123.000000  84.500000   34.500000    5.000000  43.200000   \n",
       "75%      7.000000  156.000000  92.250000   40.750000    8.000000  50.200000   \n",
       "max      9.000000  178.000000  99.000000   48.000000  124.000000  57.200000   \n",
       "\n",
       "        pedigree         age      class  names  \n",
       "count  30.000000   30.000000  30.000000    0.0  \n",
       "mean   15.026000   56.166667   0.700000    NaN  \n",
       "std     8.803408   19.647029   0.466092    NaN  \n",
       "min     0.526000   38.000000   0.000000    NaN  \n",
       "25%     7.776000   46.250000   0.000000    NaN  \n",
       "50%    15.026000   53.500000   1.000000    NaN  \n",
       "75%    22.276000   60.750000   1.000000    NaN  \n",
       "max    29.526000  150.000000   1.000000    NaN  "
      ]
     },
     "execution_count": 36,
     "metadata": {},
     "output_type": "execute_result"
    }
   ],
   "source": [
    "df_excel.describe() #returns all the stastistical parameters at once"
   ]
  },
  {
   "cell_type": "markdown",
   "metadata": {},
   "source": [
    "#### Stastistical Operations:"
   ]
  },
  {
   "cell_type": "code",
   "execution_count": 37,
   "metadata": {},
   "outputs": [
    {
     "data": {
      "text/plain": [
       "preg_count      4.458333\n",
       "glucose       121.275862\n",
       "BP             84.392857\n",
       "skin_thick     33.884615\n",
       "insulin        12.413793\n",
       "BMI            43.165517\n",
       "pedigree       15.026000\n",
       "age            56.166667\n",
       "class           0.700000\n",
       "names                NaN\n",
       "dtype: float64"
      ]
     },
     "execution_count": 37,
     "metadata": {},
     "output_type": "execute_result"
    }
   ],
   "source": [
    "df_excel.mean() #average of all the values belonging to a particular attribute, default is axis = 0 i.e, across columns"
   ]
  },
  {
   "cell_type": "code",
   "execution_count": 38,
   "metadata": {},
   "outputs": [
    {
     "data": {
      "text/plain": [
       "1    34.636222\n",
       "2    31.218000\n",
       "3    43.858444\n",
       "4    36.636222\n",
       "5    39.191778\n",
       "dtype: float64"
      ]
     },
     "execution_count": 38,
     "metadata": {},
     "output_type": "execute_result"
    }
   ],
   "source": [
    "df_excel.mean(axis=1).head() #for axis=1, i.e across rows"
   ]
  },
  {
   "cell_type": "code",
   "execution_count": 41,
   "metadata": {},
   "outputs": [
    {
     "data": {
      "text/plain": [
       "preg_count       7.911232\n",
       "glucose       1209.135468\n",
       "BP              81.876984\n",
       "skin_thick      76.906154\n",
       "insulin        645.965517\n",
       "BMI             73.534483\n",
       "pedigree        77.500000\n",
       "age            386.005747\n",
       "class            0.217241\n",
       "names                 NaN\n",
       "dtype: float64"
      ]
     },
     "execution_count": 41,
     "metadata": {},
     "output_type": "execute_result"
    }
   ],
   "source": [
    "df_excel.var() #it is the square of the standard deviation of values from mean, it denotes how much the values are\n",
    "#distributed from mean"
   ]
  },
  {
   "cell_type": "code",
   "execution_count": 40,
   "metadata": {},
   "outputs": [
    {
     "data": {
      "text/plain": [
       "preg_count     2.812691\n",
       "glucose       34.772625\n",
       "BP             9.048590\n",
       "skin_thick     8.769615\n",
       "insulin       25.415852\n",
       "BMI            8.575225\n",
       "pedigree       8.803408\n",
       "age           19.647029\n",
       "class          0.466092\n",
       "names               NaN\n",
       "dtype: float64"
      ]
     },
     "execution_count": 40,
     "metadata": {},
     "output_type": "execute_result"
    }
   ],
   "source": [
    "df_excel.std() #how much the values are deviating from the mean (small value shows a small deviation, while large value shows\n",
    "# a large deviation)"
   ]
  },
  {
   "cell_type": "code",
   "execution_count": 42,
   "metadata": {},
   "outputs": [
    {
     "data": {
      "text/plain": [
       "preg_count    1.374773e-01\n",
       "glucose      -1.820439e-02\n",
       "BP            3.014098e-02\n",
       "skin_thick    4.020445e-03\n",
       "insulin       3.551874e+00\n",
       "BMI          -2.542836e-02\n",
       "pedigree     -1.403646e-15\n",
       "age           3.917756e+00\n",
       "class        -9.195004e-01\n",
       "names                  NaN\n",
       "dtype: float64"
      ]
     },
     "execution_count": 42,
     "metadata": {},
     "output_type": "execute_result"
    }
   ],
   "source": [
    "df_excel.skew() #its a measure of symmetry along the normal distribution \n",
    "#positive value shows that it is skewed to right side of mean\n",
    "#negative value shows that it is skewed to left side of mean"
   ]
  },
  {
   "cell_type": "code",
   "execution_count": 43,
   "metadata": {},
   "outputs": [
    {
     "data": {
      "text/plain": [
       "preg_count    -1.469797\n",
       "glucose       -1.590196\n",
       "BP            -1.281966\n",
       "skin_thick    -1.263220\n",
       "insulin       13.833833\n",
       "BMI           -1.160735\n",
       "pedigree      -1.200000\n",
       "age           18.852659\n",
       "class         -1.242126\n",
       "names               NaN\n",
       "dtype: float64"
      ]
     },
     "execution_count": 43,
     "metadata": {},
     "output_type": "execute_result"
    }
   ],
   "source": [
    "df_excel.kurtosis()\n",
    "#Kurtosis is a measure of the flatness or peakedness of a distribution compared to the normal distribution."
   ]
  },
  {
   "cell_type": "code",
   "execution_count": 44,
   "metadata": {},
   "outputs": [
    {
     "data": {
      "text/plain": [
       "preg_count        1\n",
       "glucose          72\n",
       "BP               70\n",
       "skin_thick       20\n",
       "insulin           0\n",
       "BMI            28.2\n",
       "pedigree      0.526\n",
       "age              38\n",
       "class             0\n",
       "gender            F\n",
       "names          None\n",
       "dtype: object"
      ]
     },
     "execution_count": 44,
     "metadata": {},
     "output_type": "execute_result"
    }
   ],
   "source": [
    "df_excel.min() #returns the min value of each attribute or field"
   ]
  },
  {
   "cell_type": "code",
   "execution_count": 45,
   "metadata": {},
   "outputs": [
    {
     "data": {
      "text/plain": [
       "preg_count         9\n",
       "glucose          178\n",
       "BP                99\n",
       "skin_thick        48\n",
       "insulin          124\n",
       "BMI             57.2\n",
       "pedigree      29.526\n",
       "age              150\n",
       "class              1\n",
       "gender             M\n",
       "names           None\n",
       "dtype: object"
      ]
     },
     "execution_count": 45,
     "metadata": {},
     "output_type": "execute_result"
    }
   ],
   "source": [
    "df_excel.max() #returns the max value of each attribute or field"
   ]
  },
  {
   "cell_type": "code",
   "execution_count": 46,
   "metadata": {},
   "outputs": [
    {
     "data": {
      "text/plain": [
       "preg_count      5.000\n",
       "glucose       123.000\n",
       "BP             84.500\n",
       "skin_thick     34.500\n",
       "insulin         5.000\n",
       "BMI            43.200\n",
       "pedigree       15.026\n",
       "age            53.500\n",
       "class           1.000\n",
       "names             NaN\n",
       "dtype: float64"
      ]
     },
     "execution_count": 46,
     "metadata": {},
     "output_type": "execute_result"
    }
   ],
   "source": [
    "df_excel.median() #return the middle value for each attribute or field"
   ]
  },
  {
   "cell_type": "code",
   "execution_count": 47,
   "metadata": {},
   "outputs": [
    {
     "data": {
      "text/html": [
       "<div>\n",
       "<style scoped>\n",
       "    .dataframe tbody tr th:only-of-type {\n",
       "        vertical-align: middle;\n",
       "    }\n",
       "\n",
       "    .dataframe tbody tr th {\n",
       "        vertical-align: top;\n",
       "    }\n",
       "\n",
       "    .dataframe thead th {\n",
       "        text-align: right;\n",
       "    }\n",
       "</style>\n",
       "<table border=\"1\" class=\"dataframe\">\n",
       "  <thead>\n",
       "    <tr style=\"text-align: right;\">\n",
       "      <th></th>\n",
       "      <th>preg_count</th>\n",
       "      <th>glucose</th>\n",
       "      <th>BP</th>\n",
       "      <th>skin_thick</th>\n",
       "      <th>insulin</th>\n",
       "      <th>BMI</th>\n",
       "      <th>pedigree</th>\n",
       "      <th>age</th>\n",
       "      <th>class</th>\n",
       "      <th>names</th>\n",
       "    </tr>\n",
       "  </thead>\n",
       "  <tbody>\n",
       "    <tr>\n",
       "      <th>preg_count</th>\n",
       "      <td>1.000000</td>\n",
       "      <td>0.010278</td>\n",
       "      <td>0.016389</td>\n",
       "      <td>-0.037203</td>\n",
       "      <td>0.130925</td>\n",
       "      <td>0.050985</td>\n",
       "      <td>0.050985</td>\n",
       "      <td>0.302632</td>\n",
       "      <td>-0.152380</td>\n",
       "      <td>NaN</td>\n",
       "    </tr>\n",
       "    <tr>\n",
       "      <th>glucose</th>\n",
       "      <td>0.010278</td>\n",
       "      <td>1.000000</td>\n",
       "      <td>0.211624</td>\n",
       "      <td>0.246542</td>\n",
       "      <td>0.099943</td>\n",
       "      <td>0.120761</td>\n",
       "      <td>0.171138</td>\n",
       "      <td>0.012860</td>\n",
       "      <td>0.154013</td>\n",
       "      <td>NaN</td>\n",
       "    </tr>\n",
       "    <tr>\n",
       "      <th>BP</th>\n",
       "      <td>0.016389</td>\n",
       "      <td>0.211624</td>\n",
       "      <td>1.000000</td>\n",
       "      <td>1.000000</td>\n",
       "      <td>-0.214819</td>\n",
       "      <td>1.000000</td>\n",
       "      <td>1.000000</td>\n",
       "      <td>0.170679</td>\n",
       "      <td>0.072449</td>\n",
       "      <td>NaN</td>\n",
       "    </tr>\n",
       "    <tr>\n",
       "      <th>skin_thick</th>\n",
       "      <td>-0.037203</td>\n",
       "      <td>0.246542</td>\n",
       "      <td>1.000000</td>\n",
       "      <td>1.000000</td>\n",
       "      <td>-0.212941</td>\n",
       "      <td>1.000000</td>\n",
       "      <td>1.000000</td>\n",
       "      <td>0.134155</td>\n",
       "      <td>0.068580</td>\n",
       "      <td>NaN</td>\n",
       "    </tr>\n",
       "    <tr>\n",
       "      <th>insulin</th>\n",
       "      <td>0.130925</td>\n",
       "      <td>0.099943</td>\n",
       "      <td>-0.214819</td>\n",
       "      <td>-0.212941</td>\n",
       "      <td>1.000000</td>\n",
       "      <td>-0.254070</td>\n",
       "      <td>-0.214212</td>\n",
       "      <td>-0.188211</td>\n",
       "      <td>0.199142</td>\n",
       "      <td>NaN</td>\n",
       "    </tr>\n",
       "    <tr>\n",
       "      <th>BMI</th>\n",
       "      <td>0.050985</td>\n",
       "      <td>0.120761</td>\n",
       "      <td>1.000000</td>\n",
       "      <td>1.000000</td>\n",
       "      <td>-0.254070</td>\n",
       "      <td>1.000000</td>\n",
       "      <td>1.000000</td>\n",
       "      <td>0.133633</td>\n",
       "      <td>0.068021</td>\n",
       "      <td>NaN</td>\n",
       "    </tr>\n",
       "    <tr>\n",
       "      <th>pedigree</th>\n",
       "      <td>0.050985</td>\n",
       "      <td>0.171138</td>\n",
       "      <td>1.000000</td>\n",
       "      <td>1.000000</td>\n",
       "      <td>-0.214212</td>\n",
       "      <td>1.000000</td>\n",
       "      <td>1.000000</td>\n",
       "      <td>0.173948</td>\n",
       "      <td>0.029414</td>\n",
       "      <td>NaN</td>\n",
       "    </tr>\n",
       "    <tr>\n",
       "      <th>age</th>\n",
       "      <td>0.302632</td>\n",
       "      <td>0.012860</td>\n",
       "      <td>0.170679</td>\n",
       "      <td>0.134155</td>\n",
       "      <td>-0.188211</td>\n",
       "      <td>0.133633</td>\n",
       "      <td>0.173948</td>\n",
       "      <td>1.000000</td>\n",
       "      <td>-0.276771</td>\n",
       "      <td>NaN</td>\n",
       "    </tr>\n",
       "    <tr>\n",
       "      <th>class</th>\n",
       "      <td>-0.152380</td>\n",
       "      <td>0.154013</td>\n",
       "      <td>0.072449</td>\n",
       "      <td>0.068580</td>\n",
       "      <td>0.199142</td>\n",
       "      <td>0.068021</td>\n",
       "      <td>0.029414</td>\n",
       "      <td>-0.276771</td>\n",
       "      <td>1.000000</td>\n",
       "      <td>NaN</td>\n",
       "    </tr>\n",
       "    <tr>\n",
       "      <th>names</th>\n",
       "      <td>NaN</td>\n",
       "      <td>NaN</td>\n",
       "      <td>NaN</td>\n",
       "      <td>NaN</td>\n",
       "      <td>NaN</td>\n",
       "      <td>NaN</td>\n",
       "      <td>NaN</td>\n",
       "      <td>NaN</td>\n",
       "      <td>NaN</td>\n",
       "      <td>NaN</td>\n",
       "    </tr>\n",
       "  </tbody>\n",
       "</table>\n",
       "</div>"
      ],
      "text/plain": [
       "            preg_count   glucose        BP  skin_thick   insulin       BMI  \\\n",
       "preg_count    1.000000  0.010278  0.016389   -0.037203  0.130925  0.050985   \n",
       "glucose       0.010278  1.000000  0.211624    0.246542  0.099943  0.120761   \n",
       "BP            0.016389  0.211624  1.000000    1.000000 -0.214819  1.000000   \n",
       "skin_thick   -0.037203  0.246542  1.000000    1.000000 -0.212941  1.000000   \n",
       "insulin       0.130925  0.099943 -0.214819   -0.212941  1.000000 -0.254070   \n",
       "BMI           0.050985  0.120761  1.000000    1.000000 -0.254070  1.000000   \n",
       "pedigree      0.050985  0.171138  1.000000    1.000000 -0.214212  1.000000   \n",
       "age           0.302632  0.012860  0.170679    0.134155 -0.188211  0.133633   \n",
       "class        -0.152380  0.154013  0.072449    0.068580  0.199142  0.068021   \n",
       "names              NaN       NaN       NaN         NaN       NaN       NaN   \n",
       "\n",
       "            pedigree       age     class  names  \n",
       "preg_count  0.050985  0.302632 -0.152380    NaN  \n",
       "glucose     0.171138  0.012860  0.154013    NaN  \n",
       "BP          1.000000  0.170679  0.072449    NaN  \n",
       "skin_thick  1.000000  0.134155  0.068580    NaN  \n",
       "insulin    -0.214212 -0.188211  0.199142    NaN  \n",
       "BMI         1.000000  0.133633  0.068021    NaN  \n",
       "pedigree    1.000000  0.173948  0.029414    NaN  \n",
       "age         0.173948  1.000000 -0.276771    NaN  \n",
       "class       0.029414 -0.276771  1.000000    NaN  \n",
       "names            NaN       NaN       NaN    NaN  "
      ]
     },
     "execution_count": 47,
     "metadata": {},
     "output_type": "execute_result"
    }
   ],
   "source": [
    "df_excel.corr() #the correlation shows, how much the values are dependent on each other, example age and salary : as the age\n",
    "#increases so does the salary of the person. so we can say they are strongly dependent.\n",
    "#So correlation is the measure of how much the value varies with the change in the other value"
   ]
  },
  {
   "cell_type": "markdown",
   "metadata": {},
   "source": [
    "#### Data Visualising:"
   ]
  },
  {
   "cell_type": "code",
   "execution_count": 64,
   "metadata": {},
   "outputs": [
    {
     "data": {
      "text/plain": [
       "<matplotlib.axes._subplots.AxesSubplot at 0xcde7e61128>"
      ]
     },
     "execution_count": 64,
     "metadata": {},
     "output_type": "execute_result"
    },
    {
     "data": {
      "image/png": "[encoded data removed]",
      "text/plain": [
       "<Figure size 216x216 with 1 Axes>"
      ]
     },
     "metadata": {},
     "output_type": "display_data"
    }
   ],
   "source": [
    "#It is actually required to present what lies within the data to anyone by using various visualising aids:\n",
    "%matplotlib inline\n",
    "x = df_excel['preg_count'].value_counts().sort_index()\n",
    "colors = ['#191970', '#001CF0', '#0038E2', '#0055D4', '#0071C6', '#008DB8', '#00AAAA',\n",
    "'#00C69C']\n",
    "explode = (0, 0, 0,0,0.01, 0.01, 0.015, 0.2)\n",
    "x.plot(kind='pie',colors= colors, explode=explode,fontsize =10, figsize=(3,3))"
   ]
  },
  {
   "cell_type": "code",
   "execution_count": 65,
   "metadata": {},
   "outputs": [
    {
     "data": {
      "text/plain": [
       "<matplotlib.axes._subplots.AxesSubplot at 0xcde7e526d8>"
      ]
     },
     "execution_count": 65,
     "metadata": {},
     "output_type": "execute_result"
    },
    {
     "data": {
      "image/png": "[encoded data removed]",
      "text/plain": [
       "<Figure size 216x216 with 1 Axes>"
      ]
     },
     "metadata": {
      "needs_background": "light"
     },
     "output_type": "display_data"
    }
   ],
   "source": [
    "df_excel.plot.scatter('age','glucose',figsize=(3,3))"
   ]
  },
  {
   "cell_type": "code",
   "execution_count": 66,
   "metadata": {},
   "outputs": [
    {
     "data": {
      "text/plain": [
       "<matplotlib.axes._subplots.AxesSubplot at 0xcde7d86438>"
      ]
     },
     "execution_count": 66,
     "metadata": {},
     "output_type": "execute_result"
    },
    {
     "data": {
      "image/png": "[encoded data removed]",
      "text/plain": [
       "<Figure size 216x216 with 1 Axes>"
      ]
     },
     "metadata": {
      "needs_background": "light"
     },
     "output_type": "display_data"
    }
   ],
   "source": [
    "df_excel['age'].plot.box(figsize=(3,3))"
   ]
  },
  {
   "cell_type": "markdown",
   "metadata": {},
   "source": [
    "#### Data Cleaning:"
   ]
  },
  {
   "cell_type": "markdown",
   "metadata": {},
   "source": [
    "Uncleaned data always gives the inaccurate model. It is meaningless to spend time on modelling if data is uncleaned. So clean data is critical for training models. Data scientist spend max of time in cleaning data. The uncleaned data can have:\n",
    "\n",
    "1) Missing values\n",
    "2) Infinite values\n",
    "3) outliers\n",
    "4) Errorneous values\n",
    "\n",
    "\n",
    "we apply various methods to clean data:"
   ]
  },
  {
   "cell_type": "code",
   "execution_count": null,
   "metadata": {},
   "outputs": [],
   "source": []
  }
 ],
 "metadata": {
  "kernelspec": {
   "display_name": "Python 3",
   "language": "python",
   "name": "python3"
  },
  "language_info": {
   "codemirror_mode": {
    "name": "ipython",
    "version": 3
   },
   "file_extension": ".py",
   "mimetype": "text/x-python",
   "name": "python",
   "nbconvert_exporter": "python",
   "pygments_lexer": "ipython3",
   "version": "3.7.1"
  }
 },
 "nbformat": 4,
 "nbformat_minor": 2
}
