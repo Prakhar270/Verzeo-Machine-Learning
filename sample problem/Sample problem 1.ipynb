{
 "cells": [
  {
   "cell_type": "raw",
   "metadata": {},
   "source": [
    "Write a Python script to concatenate the following dictionaries to create a new\n",
    "\n",
    "one.\n",
    "\n",
    "Sample Dictionary :\n",
    "\n",
    "dic1={1:10, 2:20}\n",
    "\n",
    "dic2={3:30, 4:40}\n",
    "\n",
    "dic3={5:50,6:60}"
   ]
  },
  {
   "cell_type": "code",
   "execution_count": 37,
   "metadata": {},
   "outputs": [
    {
     "data": {
      "text/plain": [
       "{1: 10, 2: 20, 3: 30, 4: 40, 5: 50, 6: 60}"
      ]
     },
     "execution_count": 37,
     "metadata": {},
     "output_type": "execute_result"
    }
   ],
   "source": [
    "dic1={1:10, 2:20}\n",
    "\n",
    "dic2={3:30, 4:40}\n",
    "\n",
    "dic3={5:50,6:60}\n",
    "\n",
    "new_dict = {}\n",
    "\n",
    "for i in (dic1 , dic2, dic3):\n",
    "    new_dict.update(i)\n",
    "    \n",
    "new_dict"
   ]
  },
  {
   "cell_type": "raw",
   "metadata": {},
   "source": [
    "Write a Python script to check if a given key already exists in a dictionary"
   ]
  },
  {
   "cell_type": "code",
   "execution_count": 3,
   "metadata": {},
   "outputs": [
    {
     "name": "stdout",
     "output_type": "stream",
     "text": [
      "Enter Dictionary key: 8\n",
      "The given key doesn't exists\n"
     ]
    }
   ],
   "source": [
    "dic = {1: 10, 2: 20, 3: 30, 4: 40, 5: 50, 6: 60}\n",
    "\n",
    "check = int(input(\"Enter Dictionary key: \"))\n",
    "\n",
    "for i in dic:\n",
    "    if check in dic.keys():\n",
    "        print(\"The given key is exists\")\n",
    "        break\n",
    "    else:\n",
    "        print(\"The given key doesn't exists\")\n",
    "        break"
   ]
  },
  {
   "cell_type": "raw",
   "metadata": {},
   "source": [
    "Write a Python script to print a dictionary where the keys are numbers between 1\n",
    "and 15 (both included) and the values are square of keys. Go to the editor\n",
    "Sample Dictionary\n",
    "{1: 1, 2: 4, 3: 9, 4: 16, 5: 25, 6: 36, 7: 49, 8: 64, 9: 81, 10: 100, 11: 121, 12: 144,\n",
    "13: 169, 14: 196, 15: 225}"
   ]
  },
  {
   "cell_type": "code",
   "execution_count": 4,
   "metadata": {},
   "outputs": [
    {
     "data": {
      "text/plain": [
       "{1: 1,\n",
       " 2: 4,\n",
       " 3: 9,\n",
       " 4: 16,\n",
       " 5: 25,\n",
       " 6: 36,\n",
       " 7: 49,\n",
       " 8: 64,\n",
       " 9: 81,\n",
       " 10: 100,\n",
       " 11: 121,\n",
       " 12: 144,\n",
       " 13: 169,\n",
       " 14: 196,\n",
       " 15: 225}"
      ]
     },
     "execution_count": 4,
     "metadata": {},
     "output_type": "execute_result"
    }
   ],
   "source": [
    "dict3 = {}\n",
    "\n",
    "for i in range(1,16):\n",
    "    dict3[i] = i**2\n",
    "dict3"
   ]
  },
  {
   "cell_type": "raw",
   "metadata": {},
   "source": [
    "Write a Python program to remove duplicates from Dictionary?"
   ]
  },
  {
   "cell_type": "code",
   "execution_count": 32,
   "metadata": {},
   "outputs": [
    {
     "data": {
      "text/plain": [
       "{1: 10, 2: 20, 3: 30, 4: 40, 5: 50, 6: 60}"
      ]
     },
     "execution_count": 32,
     "metadata": {},
     "output_type": "execute_result"
    }
   ],
   "source": [
    "dict4 = {1: 10, 2: 20, 3: 30, 4: 40, 5: 50, 6: 60, 7: 10, 8: 50, 9: 60}\n",
    "dict5 = {}\n",
    "\n",
    "for key, value in dict4.items():\n",
    "    if value in dict5.values():\n",
    "        continue\n",
    "    else:\n",
    "        dict5[key] = value\n",
    "dict5"
   ]
  },
  {
   "cell_type": "raw",
   "metadata": {},
   "source": [
    "Write a Python program to create and display all combinations of letters,\n",
    "selecting each letter from a different key in a dictionary. Go to the editor\n",
    "Sample data : {'1':['a','b'], '2':['c','d']}"
   ]
  },
  {
   "cell_type": "code",
   "execution_count": 46,
   "metadata": {},
   "outputs": [
    {
     "name": "stdout",
     "output_type": "stream",
     "text": [
      "ac\n",
      "ad\n",
      "bc\n",
      "bd\n"
     ]
    }
   ],
   "source": [
    "dict6 = {'1':['a','b'], '2':['c','d']}\n",
    "\n",
    "samp = list(dict6.values())\n",
    "\n",
    "for value in samp[0]:\n",
    "    for value2 in samp[1]:\n",
    "        print(value+value2)"
   ]
  },
  {
   "cell_type": "raw",
   "metadata": {},
   "source": [
    "Write a Python program to create a dictionary from a string. Go to the editor\n",
    "Note: Track the count of the letters from the string.\n",
    "Sample string: 'w3resource'"
   ]
  },
  {
   "cell_type": "code",
   "execution_count": 48,
   "metadata": {},
   "outputs": [
    {
     "data": {
      "text/plain": [
       "{0: 'w',\n",
       " 1: '3',\n",
       " 2: 'r',\n",
       " 3: 'e',\n",
       " 4: 's',\n",
       " 5: 'o',\n",
       " 6: 'u',\n",
       " 7: 'r',\n",
       " 8: 'c',\n",
       " 9: 'e'}"
      ]
     },
     "execution_count": 48,
     "metadata": {},
     "output_type": "execute_result"
    }
   ],
   "source": [
    "string = 'w3resource'\n",
    "\n",
    "i = 0\n",
    "dict7 = {}\n",
    "\n",
    "for dp in string:\n",
    "    dict7[i] = dp\n",
    "    i+=1\n",
    "    \n",
    "dict7"
   ]
  },
  {
   "cell_type": "raw",
   "metadata": {},
   "source": [
    "Write a Python program to sort Counter by value. Go to the editor\n",
    "Sample data : {'Math':81, 'Physics':83, 'Chemistry':87}"
   ]
  },
  {
   "cell_type": "code",
   "execution_count": 59,
   "metadata": {},
   "outputs": [
    {
     "data": {
      "text/plain": [
       "{'Chemistry': 87, 'Physics': 83, 'Math': 81}"
      ]
     },
     "execution_count": 59,
     "metadata": {},
     "output_type": "execute_result"
    }
   ],
   "source": [
    "dict8 = {'Math':81, 'Physics':83, 'Chemistry':87}\n",
    "dict9 = {}\n",
    "for i in sorted(dict8.values())[::-1]:\n",
    "    for key, value in dict8.items():\n",
    "        if value == i:\n",
    "            dict9[key] = value\n",
    "        else:\n",
    "            continue\n",
    "dict9"
   ]
  },
  {
   "cell_type": "code",
   "execution_count": null,
   "metadata": {},
   "outputs": [],
   "source": []
  }
 ],
 "metadata": {
  "kernelspec": {
   "display_name": "Python 3",
   "language": "python",
   "name": "python3"
  },
  "language_info": {
   "codemirror_mode": {
    "name": "ipython",
    "version": 3
   },
   "file_extension": ".py",
   "mimetype": "text/x-python",
   "name": "python",
   "nbconvert_exporter": "python",
   "pygments_lexer": "ipython3",
   "version": "3.8.1"
  }
 },
 "nbformat": 4,
 "nbformat_minor": 4
}
