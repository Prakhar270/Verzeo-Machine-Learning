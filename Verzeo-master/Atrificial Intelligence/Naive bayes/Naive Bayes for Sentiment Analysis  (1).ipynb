{
 "cells": [
  {
   "cell_type": "markdown",
   "metadata": {},
   "source": [
    "# Naive Bayes for Sentiment Analysis"
   ]
  },
  {
   "cell_type": "raw",
   "metadata": {},
   "source": [
    "Metacritic.com is a review website for movies, videogames, music and tv shows. We will be using a dataset with videogames reviews scraped from the site. Each review contains a text opinion and a numeric score (0 to 100 scale). \n",
    "After keeping just highly-polarized reviews (filtering by scores) and balancing the number of examples in each class we end up with 40838 documents, 50% being positive (class = 1) and the remaining 50% being negative (class = 0)."
   ]
  },
  {
   "cell_type": "code",
   "execution_count": null,
   "metadata": {},
   "outputs": [],
   "source": [
    "! pip install regex"
   ]
  },
  {
   "cell_type": "code",
   "execution_count": 14,
   "metadata": {},
   "outputs": [],
   "source": [
    "import re"
   ]
  },
  {
   "cell_type": "code",
   "execution_count": 1,
   "metadata": {},
   "outputs": [],
   "source": [
    "#! pip install utils\n",
    "#! pip install bcolz"
   ]
  },
  {
   "cell_type": "code",
   "execution_count": 2,
   "metadata": {},
   "outputs": [],
   "source": [
    "%matplotlib inline\n",
    "import utils\n",
    "import importlib\n",
    "importlib.reload(utils)\n",
    "from utils import *\n",
    "import re, string, collections, bcolz, pickle, os\n",
    "from sklearn.model_selection import train_test_split\n",
    "from sklearn.feature_extraction.text import CountVectorizer, TfidfVectorizer\n",
    "from sklearn.linear_model import LogisticRegression\n",
    "from sklearn.decomposition import TruncatedSVD, PCA\n",
    "from sklearn.metrics import confusion_matrix\n",
    "import pandas as pd\n",
    "import numpy as np\n",
    "import matplotlib.pyplot as plt"
   ]
  },
  {
   "cell_type": "markdown",
   "metadata": {},
   "source": [
    "### The objective of this notebook is to train a sentiment analysis classifier given the games reviews in the dataset. The model must classify text reviews in positive or negative"
   ]
  },
  {
   "cell_type": "markdown",
   "metadata": {},
   "source": [
    "### Data set"
   ]
  },
  {
   "cell_type": "code",
   "execution_count": 3,
   "metadata": {},
   "outputs": [],
   "source": [
    "df = pd.read_csv('reviews.csv', lineterminator='\\n')"
   ]
  },
  {
   "cell_type": "code",
   "execution_count": 4,
   "metadata": {},
   "outputs": [
    {
     "data": {
      "text/html": [
       "<div>\n",
       "<style scoped>\n",
       "    .dataframe tbody tr th:only-of-type {\n",
       "        vertical-align: middle;\n",
       "    }\n",
       "\n",
       "    .dataframe tbody tr th {\n",
       "        vertical-align: top;\n",
       "    }\n",
       "\n",
       "    .dataframe thead th {\n",
       "        text-align: right;\n",
       "    }\n",
       "</style>\n",
       "<table border=\"1\" class=\"dataframe\">\n",
       "  <thead>\n",
       "    <tr style=\"text-align: right;\">\n",
       "      <th></th>\n",
       "      <th>score</th>\n",
       "      <th>text</th>\n",
       "      <th>critic</th>\n",
       "      <th>date</th>\n",
       "      <th>title</th>\n",
       "      <th>platform</th>\n",
       "    </tr>\n",
       "  </thead>\n",
       "  <tbody>\n",
       "    <tr>\n",
       "      <th>0</th>\n",
       "      <td>74.0</td>\n",
       "      <td>it makes a terrible first impression, but  ult...</td>\n",
       "      <td>Gaming Nexus</td>\n",
       "      <td>2014-11-18</td>\n",
       "      <td>#KILLALLZOMBIES</td>\n",
       "      <td>PlayStation 4</td>\n",
       "    </tr>\n",
       "    <tr>\n",
       "      <th>1</th>\n",
       "      <td>65.0</td>\n",
       "      <td>brings some fresh and inventive ideas to the ...</td>\n",
       "      <td>Playstation Universe</td>\n",
       "      <td>2014-11-17</td>\n",
       "      <td>#KILLALLZOMBIES</td>\n",
       "      <td>PlayStation 4</td>\n",
       "    </tr>\n",
       "    <tr>\n",
       "      <th>2</th>\n",
       "      <td>60.0</td>\n",
       "      <td>a fun main mode of play that can get quite add...</td>\n",
       "      <td>Gamers' Temple</td>\n",
       "      <td>2015-02-16</td>\n",
       "      <td>#KILLALLZOMBIES</td>\n",
       "      <td>PlayStation 4</td>\n",
       "    </tr>\n",
       "    <tr>\n",
       "      <th>3</th>\n",
       "      <td>60.0</td>\n",
       "      <td>simply put,  feels like half of a game.</td>\n",
       "      <td>DarkStation</td>\n",
       "      <td>2014-12-04</td>\n",
       "      <td>#KILLALLZOMBIES</td>\n",
       "      <td>PlayStation 4</td>\n",
       "    </tr>\n",
       "    <tr>\n",
       "      <th>4</th>\n",
       "      <td>60.0</td>\n",
       "      <td>combined with the price and lack of cross-buy,...</td>\n",
       "      <td>Worth Playing</td>\n",
       "      <td>2014-11-30</td>\n",
       "      <td>#KILLALLZOMBIES</td>\n",
       "      <td>PlayStation 4</td>\n",
       "    </tr>\n",
       "    <tr>\n",
       "      <th>5</th>\n",
       "      <td>60.0</td>\n",
       "      <td>feels like an unfinished product, and it’s a ...</td>\n",
       "      <td>Push Square</td>\n",
       "      <td>2014-11-13</td>\n",
       "      <td>#KILLALLZOMBIES</td>\n",
       "      <td>PlayStation 4</td>\n",
       "    </tr>\n",
       "    <tr>\n",
       "      <th>6</th>\n",
       "      <td>90.0</td>\n",
       "      <td>had a lot of love poured into its development...</td>\n",
       "      <td>DualShockers</td>\n",
       "      <td>2017-11-03</td>\n",
       "      <td>.hack//G.U. Last Recode</td>\n",
       "      <td>PlayStation 4</td>\n",
       "    </tr>\n",
       "    <tr>\n",
       "      <th>7</th>\n",
       "      <td>85.0</td>\n",
       "      <td>this game has sparked an interest in anime tha...</td>\n",
       "      <td>Digital Chumps</td>\n",
       "      <td>2017-11-14</td>\n",
       "      <td>.hack//G.U. Last Recode</td>\n",
       "      <td>PlayStation 4</td>\n",
       "    </tr>\n",
       "    <tr>\n",
       "      <th>8</th>\n",
       "      <td>80.0</td>\n",
       "      <td>last recode is a very well done compilation, w...</td>\n",
       "      <td>SpazioGames</td>\n",
       "      <td>2017-11-11</td>\n",
       "      <td>.hack//G.U. Last Recode</td>\n",
       "      <td>PlayStation 4</td>\n",
       "    </tr>\n",
       "    <tr>\n",
       "      <th>9</th>\n",
       "      <td>80.0</td>\n",
       "      <td>is an incredible package of remastered games....</td>\n",
       "      <td>RPG Site</td>\n",
       "      <td>2017-11-06</td>\n",
       "      <td>.hack//G.U. Last Recode</td>\n",
       "      <td>PlayStation 4</td>\n",
       "    </tr>\n",
       "  </tbody>\n",
       "</table>\n",
       "</div>"
      ],
      "text/plain": [
       "   score                                               text  \\\n",
       "0   74.0  it makes a terrible first impression, but  ult...   \n",
       "1   65.0   brings some fresh and inventive ideas to the ...   \n",
       "2   60.0  a fun main mode of play that can get quite add...   \n",
       "3   60.0            simply put,  feels like half of a game.   \n",
       "4   60.0  combined with the price and lack of cross-buy,...   \n",
       "5   60.0   feels like an unfinished product, and it’s a ...   \n",
       "6   90.0   had a lot of love poured into its development...   \n",
       "7   85.0  this game has sparked an interest in anime tha...   \n",
       "8   80.0  last recode is a very well done compilation, w...   \n",
       "9   80.0   is an incredible package of remastered games....   \n",
       "\n",
       "                 critic        date                    title       platform  \n",
       "0          Gaming Nexus  2014-11-18          #KILLALLZOMBIES  PlayStation 4  \n",
       "1  Playstation Universe  2014-11-17          #KILLALLZOMBIES  PlayStation 4  \n",
       "2        Gamers' Temple  2015-02-16          #KILLALLZOMBIES  PlayStation 4  \n",
       "3           DarkStation  2014-12-04          #KILLALLZOMBIES  PlayStation 4  \n",
       "4         Worth Playing  2014-11-30          #KILLALLZOMBIES  PlayStation 4  \n",
       "5           Push Square  2014-11-13          #KILLALLZOMBIES  PlayStation 4  \n",
       "6          DualShockers  2017-11-03  .hack//G.U. Last Recode  PlayStation 4  \n",
       "7        Digital Chumps  2017-11-14  .hack//G.U. Last Recode  PlayStation 4  \n",
       "8           SpazioGames  2017-11-11  .hack//G.U. Last Recode  PlayStation 4  \n",
       "9              RPG Site  2017-11-06  .hack//G.U. Last Recode  PlayStation 4  "
      ]
     },
     "execution_count": 4,
     "metadata": {},
     "output_type": "execute_result"
    }
   ],
   "source": [
    "df.head(10)"
   ]
  },
  {
   "cell_type": "code",
   "execution_count": 5,
   "metadata": {},
   "outputs": [
    {
     "data": {
      "text/plain": [
       "(127699, 6)"
      ]
     },
     "execution_count": 5,
     "metadata": {},
     "output_type": "execute_result"
    }
   ],
   "source": [
    "df.shape"
   ]
  },
  {
   "cell_type": "markdown",
   "metadata": {},
   "source": [
    "#### Let's keep just text and score columns"
   ]
  },
  {
   "cell_type": "code",
   "execution_count": 6,
   "metadata": {},
   "outputs": [],
   "source": [
    "df = df[['text', 'score',]]"
   ]
  },
  {
   "cell_type": "code",
   "execution_count": 8,
   "metadata": {},
   "outputs": [
    {
     "data": {
      "text/html": [
       "<div>\n",
       "<style scoped>\n",
       "    .dataframe tbody tr th:only-of-type {\n",
       "        vertical-align: middle;\n",
       "    }\n",
       "\n",
       "    .dataframe tbody tr th {\n",
       "        vertical-align: top;\n",
       "    }\n",
       "\n",
       "    .dataframe thead th {\n",
       "        text-align: right;\n",
       "    }\n",
       "</style>\n",
       "<table border=\"1\" class=\"dataframe\">\n",
       "  <thead>\n",
       "    <tr style=\"text-align: right;\">\n",
       "      <th></th>\n",
       "      <th>text</th>\n",
       "      <th>score</th>\n",
       "    </tr>\n",
       "  </thead>\n",
       "  <tbody>\n",
       "    <tr>\n",
       "      <th>0</th>\n",
       "      <td>it makes a terrible first impression, but  ult...</td>\n",
       "      <td>74.0</td>\n",
       "    </tr>\n",
       "    <tr>\n",
       "      <th>1</th>\n",
       "      <td>brings some fresh and inventive ideas to the ...</td>\n",
       "      <td>65.0</td>\n",
       "    </tr>\n",
       "    <tr>\n",
       "      <th>2</th>\n",
       "      <td>a fun main mode of play that can get quite add...</td>\n",
       "      <td>60.0</td>\n",
       "    </tr>\n",
       "    <tr>\n",
       "      <th>3</th>\n",
       "      <td>simply put,  feels like half of a game.</td>\n",
       "      <td>60.0</td>\n",
       "    </tr>\n",
       "    <tr>\n",
       "      <th>4</th>\n",
       "      <td>combined with the price and lack of cross-buy,...</td>\n",
       "      <td>60.0</td>\n",
       "    </tr>\n",
       "    <tr>\n",
       "      <th>5</th>\n",
       "      <td>feels like an unfinished product, and it’s a ...</td>\n",
       "      <td>60.0</td>\n",
       "    </tr>\n",
       "    <tr>\n",
       "      <th>6</th>\n",
       "      <td>had a lot of love poured into its development...</td>\n",
       "      <td>90.0</td>\n",
       "    </tr>\n",
       "    <tr>\n",
       "      <th>7</th>\n",
       "      <td>this game has sparked an interest in anime tha...</td>\n",
       "      <td>85.0</td>\n",
       "    </tr>\n",
       "    <tr>\n",
       "      <th>8</th>\n",
       "      <td>last recode is a very well done compilation, w...</td>\n",
       "      <td>80.0</td>\n",
       "    </tr>\n",
       "    <tr>\n",
       "      <th>9</th>\n",
       "      <td>is an incredible package of remastered games....</td>\n",
       "      <td>80.0</td>\n",
       "    </tr>\n",
       "    <tr>\n",
       "      <th>10</th>\n",
       "      <td>is a great attempt to modernize an older fran...</td>\n",
       "      <td>80.0</td>\n",
       "    </tr>\n",
       "    <tr>\n",
       "      <th>11</th>\n",
       "      <td>you're getting a lot of game for your buck, an...</td>\n",
       "      <td>79.0</td>\n",
       "    </tr>\n",
       "    <tr>\n",
       "      <th>12</th>\n",
       "      <td>this title which includes the three original g...</td>\n",
       "      <td>79.0</td>\n",
       "    </tr>\n",
       "    <tr>\n",
       "      <th>13</th>\n",
       "      <td>the only painful notes of production remain th...</td>\n",
       "      <td>78.0</td>\n",
       "    </tr>\n",
       "    <tr>\n",
       "      <th>14</th>\n",
       "      <td>last recode has its highs and lows, but overal...</td>\n",
       "      <td>76.0</td>\n",
       "    </tr>\n",
       "    <tr>\n",
       "      <th>15</th>\n",
       "      <td>these remastered games include a new chapter t...</td>\n",
       "      <td>75.0</td>\n",
       "    </tr>\n",
       "    <tr>\n",
       "      <th>16</th>\n",
       "      <td>a very enjoyable jrpg experience inspired by t...</td>\n",
       "      <td>75.0</td>\n",
       "    </tr>\n",
       "    <tr>\n",
       "      <th>17</th>\n",
       "      <td>gives you good bang for your buck, with an or...</td>\n",
       "      <td>75.0</td>\n",
       "    </tr>\n",
       "    <tr>\n",
       "      <th>18</th>\n",
       "      <td>is a jrpg history exhibit, and it’s well wort...</td>\n",
       "      <td>75.0</td>\n",
       "    </tr>\n",
       "    <tr>\n",
       "      <th>19</th>\n",
       "      <td>is the best way to enter in to the .hack world.</td>\n",
       "      <td>75.0</td>\n",
       "    </tr>\n",
       "  </tbody>\n",
       "</table>\n",
       "</div>"
      ],
      "text/plain": [
       "                                                 text  score\n",
       "0   it makes a terrible first impression, but  ult...   74.0\n",
       "1    brings some fresh and inventive ideas to the ...   65.0\n",
       "2   a fun main mode of play that can get quite add...   60.0\n",
       "3             simply put,  feels like half of a game.   60.0\n",
       "4   combined with the price and lack of cross-buy,...   60.0\n",
       "5    feels like an unfinished product, and it’s a ...   60.0\n",
       "6    had a lot of love poured into its development...   90.0\n",
       "7   this game has sparked an interest in anime tha...   85.0\n",
       "8   last recode is a very well done compilation, w...   80.0\n",
       "9    is an incredible package of remastered games....   80.0\n",
       "10   is a great attempt to modernize an older fran...   80.0\n",
       "11  you're getting a lot of game for your buck, an...   79.0\n",
       "12  this title which includes the three original g...   79.0\n",
       "13  the only painful notes of production remain th...   78.0\n",
       "14  last recode has its highs and lows, but overal...   76.0\n",
       "15  these remastered games include a new chapter t...   75.0\n",
       "16  a very enjoyable jrpg experience inspired by t...   75.0\n",
       "17   gives you good bang for your buck, with an or...   75.0\n",
       "18   is a jrpg history exhibit, and it’s well wort...   75.0\n",
       "19    is the best way to enter in to the .hack world.   75.0"
      ]
     },
     "execution_count": 8,
     "metadata": {},
     "output_type": "execute_result"
    }
   ],
   "source": [
    "df.head(20)"
   ]
  },
  {
   "cell_type": "raw",
   "metadata": {},
   "source": [
    "The data have 127699 reviews but we will keep just the most polarized ones. The filter is the next: \n",
    "Positive: score > 85 \n",
    "Negative: score < 50"
   ]
  },
  {
   "cell_type": "code",
   "execution_count": 9,
   "metadata": {},
   "outputs": [
    {
     "name": "stdout",
     "output_type": "stream",
     "text": [
      "reviews with score greater than 85: 43518\n",
      "reviews with score less than 50: 20428\n"
     ]
    }
   ],
   "source": [
    "print(f'reviews with score greater than 85: {len(df.loc[df[\"score\"] > 85])}')\n",
    "print(f'reviews with score less than 50: {len(df.loc[df[\"score\"] < 50])}')"
   ]
  },
  {
   "cell_type": "code",
   "execution_count": 10,
   "metadata": {},
   "outputs": [],
   "source": [
    "pos = df.loc[df['score'] > 85, 'text'].copy().reset_index(drop=True)\n",
    "neg = df.loc[df['score'] < 50, 'text'].copy().reset_index(drop=True)"
   ]
  },
  {
   "cell_type": "code",
   "execution_count": 11,
   "metadata": {},
   "outputs": [
    {
     "data": {
      "text/plain": [
       "(43518, 20428)"
      ]
     },
     "execution_count": 11,
     "metadata": {},
     "output_type": "execute_result"
    }
   ],
   "source": [
    "len(pos), len(neg)"
   ]
  },
  {
   "cell_type": "markdown",
   "metadata": {},
   "source": [
    "Let's print some positive reviews examples"
   ]
  },
  {
   "cell_type": "code",
   "execution_count": 13,
   "metadata": {},
   "outputs": [
    {
     "name": "stdout",
     "output_type": "stream",
     "text": [
      " i'm wasting too much time writing this review and need to get back on botw. hope you guys enjoy the game as much as i am!\n",
      "\n",
      "\n",
      "after playing resident evil 7, i felt sad that it was over which is a sensation i don't feel a lot of the time with games. resident evil 7 brings the series back to its roots in all of the right ways. the game play is tight and has a good amount of difficulty. the story and characters are engaging, except for the main characters. it can be crazy scary as well, which the series was desperately in need of.\n",
      "\n",
      "\n",
      "simply put,  is an awesome game for any fan of batman, any fan of action games, and i would even say any fan that enjoys just good games.\n",
      "\n",
      "\n",
      " as a fan of star trek, i'm overjoyed at this series. thank god for bioware (and gene roddenberry)\n",
      "\n",
      "\n",
      "uncharted 4 is like uncharted 2, but improved in every single aspect. it improves in shooting, puzzles, climbing, storytelling, multiplayer, and also adds more game mechanics. ignore the xbox and pc fanboys this game deserves all the ten out of ten's it's getting.\n",
      "\n",
      "\n",
      " is mainly freedom. it's ready to enchant all xbox one owners, bringing the quality of the first chapter directly into the next-gen.\n",
      "\n",
      "\n",
      "speed through stunning, stylised environments tracing ribbons of light, releasing the energy in the music. battle strange enemies and fight epic boss battles all driven by an incredible licensed soundtrack.\n",
      "\n",
      "\n",
      "horizon is a kind of rough diamond. it has great value but some flaws too, especially regarding the voice acting and the fights against humans. having said that, guerrilla has managed to create a believable world full of great moments.\n",
      "\n",
      "\n",
      "i must confess that at first this game is not struck me, then i get it on a special offer discounts, and then since i started playing it, i have not dropped... it's so addictive that i did and get the 100% achievement.\n",
      "\n",
      "\n",
      " overall this is a great game and the best in the fallout series to date. the immersion and exploration make for potentially hundreds of hours of play that other games can only dream of. the wasteland of boston is amazing and while the world map is smaller than previous games, it’s intelligently used and packed with far more locations overall. some of the scores on metacritic etc truly are ridiculous, if a mess like gtav gets 10/10 then this would get 100/10, very different games of course but  is far better in almost every area that games should be judged on. easy goty.\n",
      "\n",
      "\n",
      "i have not had any problems with this game so far i think that ww2 is a great game and it is a great tribute to the old games like cod waw. the zombies has brought back the fear factor is zombies. the ee for the maps are to easy there sapost to be achievements not a easy step by step tutorial. when i do the eastereggs i want to feel accomplished that i was one of the top .9% ect to complete the map not already hav 10% of all players complete the map because there so easy\n",
      "\n",
      "\n",
      " one of the best if the best jrpg of this generation. if you are a persona fan or just a fan of story heavy games, go buy it right now.\n",
      "\n",
      "\n",
      "sony's best game of 2017 so far! if you enjoyed the witcher 3, you will love this, there's so much to do, the game is beautiful, its a must buy for any ps4 owner.\n",
      "\n",
      "\n",
      "running at 60 fps, this game looks amazing and the smoothness is what makes it feel next gen. still a few bugs with servers since it has just come out, but hopefully they will ironed out! if you are looking for a game that requires a bit more thinking compared to your run and fun style of call if duty, definitely pick up .\n",
      "\n",
      "\n",
      " i would *highly* recommend  to any gamer. it doesn't matter what kind of game you are into, gtav excels in every way possible and i think any prospective buyers will find hours upon hours of excitement in this game!\n",
      "\n",
      "\n",
      " this is all down to opinion and personal preference, so this is me throwing in my two cents.  if you're still on the fence then watch some videos online that showcase the key elements of the game and then make your mind up.\n",
      "\n",
      "\n",
      " idk if i'll ever beat this game to be honest because i'm terrified as a mother ****er to play it but i'll definitely jave a blast having other people play it that come over.\n",
      "\n",
      "\n",
      "never write reviews but just finished this game and it was too good not to write one. if you can handle playing a game for 100+ hours then this is a must play. right now im still suffering from post game depression due to how emotionally invested i had become with it. best game on ps4 right now and a must buy for any jrpg fan.\n",
      "\n",
      "\n",
      "after spending more then 200 hours in this game, all i can say this is one of the best jrpg i ever played. coming in as a new player who never play all the previous persona series, the game does a good job introducing me to the game lore and game play. the art style of this game is fantastic, not to mentioned the sound track is really well done especially the battle theme. i'm usually not into story driven game but persona manage to outperformed all of my expectation. at time the game have really slow build up such as there are lots of dialog or cut scenes, but none of these were ever an issue for me because of how intriguing the story is. not to mentioned  offers new game plus which increase it's replay value of the game. for those of you who never play the previous persona games and thinking about jumping into the series,  is the right choice to jump in. overall i can't stop singing praises about the game and this was worth all my time spend into the game.\n",
      "\n",
      "\n",
      "awsome game loving the single player it is really great ...............................................................................................................\n",
      "\n",
      "\n"
     ]
    }
   ],
   "source": [
    "for i in range(20):\n",
    "    print(''.join(pos[np.random.randint(0, len(pos))]))\n",
    "    print('\\n')"
   ]
  },
  {
   "cell_type": "code",
   "execution_count": 12,
   "metadata": {},
   "outputs": [
    {
     "name": "stdout",
     "output_type": "stream",
     "text": [
      "this is destiny in different clothes. good graphics, no content unless you pay more. angryjoe is right. screw ea dont buy anymore of their crap. they deserve 0s even though this game is about a 4.\n",
      "\n",
      "\n",
      "rpg for casual gamers only.  no degradation on items, just a really long hoarding game with skyrim like fighting.  this is not an rpg and therefore this is not fallout. what's worse is reviewers are too afraid of ticking off bethesda to give them the scores they really deserve. bethesda need to be made aware of the shortcomings so that the next iteration is the fallout game we, they, and this series deserve.\n",
      "\n",
      "\n",
      "while we're at it.. they don't listen to their customers. the game gets worser by the year!\n",
      "\n",
      "\n",
      "that's not how you make games, ci games. that's not how you make the marketing. stop being a fake company. i will be completely honest - this negative rating is a counter-attack to the fake reviews made by the developer. the game is probably 4/10, maybe 5/10 but what the studio behind the game is doing right now is absolutely 1/10. shame.\n",
      "\n",
      "\n"
     ]
    }
   ],
   "source": [
    "for i in range(4):\n",
    "    print(''.join(neg[np.random.randint(0, len(neg))]))\n",
    "    print('\\n')"
   ]
  },
  {
   "cell_type": "markdown",
   "metadata": {},
   "source": [
    "#### We must add the labels: 0 for negative reviews, 1 for positive reviews"
   ]
  },
  {
   "cell_type": "code",
   "execution_count": 13,
   "metadata": {},
   "outputs": [],
   "source": [
    "neg = pd.concat([pd.DataFrame(neg), pd.DataFrame(np.zeros(neg.shape), columns=['class'])], 1)\n",
    "pos = pd.concat([pd.DataFrame(pos), pd.DataFrame(np.ones(pos.shape), columns=['class'])], 1)"
   ]
  },
  {
   "cell_type": "code",
   "execution_count": 14,
   "metadata": {},
   "outputs": [
    {
     "data": {
      "text/html": [
       "<div>\n",
       "<style scoped>\n",
       "    .dataframe tbody tr th:only-of-type {\n",
       "        vertical-align: middle;\n",
       "    }\n",
       "\n",
       "    .dataframe tbody tr th {\n",
       "        vertical-align: top;\n",
       "    }\n",
       "\n",
       "    .dataframe thead th {\n",
       "        text-align: right;\n",
       "    }\n",
       "</style>\n",
       "<table border=\"1\" class=\"dataframe\">\n",
       "  <thead>\n",
       "    <tr style=\"text-align: right;\">\n",
       "      <th></th>\n",
       "      <th>text</th>\n",
       "      <th>class</th>\n",
       "    </tr>\n",
       "  </thead>\n",
       "  <tbody>\n",
       "    <tr>\n",
       "      <th>0</th>\n",
       "      <td>a great concept that has been executed dreadfu...</td>\n",
       "      <td>0.0</td>\n",
       "    </tr>\n",
       "    <tr>\n",
       "      <th>1</th>\n",
       "      <td>the chaos implied by ’s wild, imaginative titl...</td>\n",
       "      <td>0.0</td>\n",
       "    </tr>\n",
       "  </tbody>\n",
       "</table>\n",
       "</div>"
      ],
      "text/plain": [
       "                                                text  class\n",
       "0  a great concept that has been executed dreadfu...    0.0\n",
       "1  the chaos implied by ’s wild, imaginative titl...    0.0"
      ]
     },
     "execution_count": 14,
     "metadata": {},
     "output_type": "execute_result"
    }
   ],
   "source": [
    "neg.head(2)"
   ]
  },
  {
   "cell_type": "code",
   "execution_count": 15,
   "metadata": {},
   "outputs": [
    {
     "data": {
      "text/html": [
       "<div>\n",
       "<style scoped>\n",
       "    .dataframe tbody tr th:only-of-type {\n",
       "        vertical-align: middle;\n",
       "    }\n",
       "\n",
       "    .dataframe tbody tr th {\n",
       "        vertical-align: top;\n",
       "    }\n",
       "\n",
       "    .dataframe thead th {\n",
       "        text-align: right;\n",
       "    }\n",
       "</style>\n",
       "<table border=\"1\" class=\"dataframe\">\n",
       "  <thead>\n",
       "    <tr style=\"text-align: right;\">\n",
       "      <th></th>\n",
       "      <th>text</th>\n",
       "      <th>class</th>\n",
       "    </tr>\n",
       "  </thead>\n",
       "  <tbody>\n",
       "    <tr>\n",
       "      <th>0</th>\n",
       "      <td>had a lot of love poured into its development...</td>\n",
       "      <td>1.0</td>\n",
       "    </tr>\n",
       "    <tr>\n",
       "      <th>1</th>\n",
       "      <td>is great fun; each level is superbly crafted ...</td>\n",
       "      <td>1.0</td>\n",
       "    </tr>\n",
       "  </tbody>\n",
       "</table>\n",
       "</div>"
      ],
      "text/plain": [
       "                                                text  class\n",
       "0   had a lot of love poured into its development...    1.0\n",
       "1   is great fun; each level is superbly crafted ...    1.0"
      ]
     },
     "execution_count": 15,
     "metadata": {},
     "output_type": "execute_result"
    }
   ],
   "source": [
    "pos.head(2)"
   ]
  },
  {
   "cell_type": "markdown",
   "metadata": {},
   "source": [
    "#### Mean, standard deviation and max length of negative reviews"
   ]
  },
  {
   "cell_type": "code",
   "execution_count": 16,
   "metadata": {},
   "outputs": [
    {
     "data": {
      "text/plain": [
       "(681.7165654983356, 823.7599066187877, 14736)"
      ]
     },
     "execution_count": 16,
     "metadata": {},
     "output_type": "execute_result"
    }
   ],
   "source": [
    "lens = neg['text'].str.len()\n",
    "lens.mean(), lens.std(), lens.max()"
   ]
  },
  {
   "cell_type": "code",
   "execution_count": 17,
   "metadata": {},
   "outputs": [
    {
     "data": {
      "image/png": "[encoded data removed]",
      "text/plain": [
       "<Figure size 864x432 with 1 Axes>"
      ]
     },
     "metadata": {
      "needs_background": "light"
     },
     "output_type": "display_data"
    }
   ],
   "source": [
    "lens.hist(figsize=(12, 6), bins=25);"
   ]
  },
  {
   "cell_type": "code",
   "execution_count": 18,
   "metadata": {},
   "outputs": [],
   "source": [
    "long_reviews = pos.loc[pos['text'].str.len() > 5000].index\n",
    "pos.drop(long_reviews, inplace=True)"
   ]
  },
  {
   "cell_type": "markdown",
   "metadata": {},
   "source": [
    "#### Is desirable to have a balanced dataset (similar quantity of positive and negative instances). So we will pick a random subset of the positive instances"
   ]
  },
  {
   "cell_type": "code",
   "execution_count": 19,
   "metadata": {},
   "outputs": [],
   "source": [
    "np.random.seed(42)\n",
    "rand = np.random.permutation(pos.shape[0])\n",
    "pos = pos.iloc[rand[:neg.shape[0]]].reset_index(drop=True)"
   ]
  },
  {
   "cell_type": "code",
   "execution_count": 20,
   "metadata": {},
   "outputs": [
    {
     "data": {
      "text/plain": [
       "((20428, 2), (20428, 2))"
      ]
     },
     "execution_count": 20,
     "metadata": {},
     "output_type": "execute_result"
    }
   ],
   "source": [
    "neg.shape, pos.shape"
   ]
  },
  {
   "cell_type": "markdown",
   "metadata": {},
   "source": [
    "#### We concatenate positive and negative reviews"
   ]
  },
  {
   "cell_type": "code",
   "execution_count": 21,
   "metadata": {},
   "outputs": [
    {
     "data": {
      "text/html": [
       "<div>\n",
       "<style scoped>\n",
       "    .dataframe tbody tr th:only-of-type {\n",
       "        vertical-align: middle;\n",
       "    }\n",
       "\n",
       "    .dataframe tbody tr th {\n",
       "        vertical-align: top;\n",
       "    }\n",
       "\n",
       "    .dataframe thead th {\n",
       "        text-align: right;\n",
       "    }\n",
       "</style>\n",
       "<table border=\"1\" class=\"dataframe\">\n",
       "  <thead>\n",
       "    <tr style=\"text-align: right;\">\n",
       "      <th></th>\n",
       "      <th>text</th>\n",
       "      <th>class</th>\n",
       "    </tr>\n",
       "  </thead>\n",
       "  <tbody>\n",
       "    <tr>\n",
       "      <th>0</th>\n",
       "      <td>i played this game with extremely high expecta...</td>\n",
       "      <td>1.0</td>\n",
       "    </tr>\n",
       "    <tr>\n",
       "      <th>1</th>\n",
       "      <td>great in-game graphics that run at 60fps. only...</td>\n",
       "      <td>1.0</td>\n",
       "    </tr>\n",
       "    <tr>\n",
       "      <th>2</th>\n",
       "      <td>a masterfully crafted hunting experience that ...</td>\n",
       "      <td>1.0</td>\n",
       "    </tr>\n",
       "    <tr>\n",
       "      <th>3</th>\n",
       "      <td>if you're looking for a game that will make yo...</td>\n",
       "      <td>1.0</td>\n",
       "    </tr>\n",
       "    <tr>\n",
       "      <th>4</th>\n",
       "      <td>so didn't really pay much attention to this ga...</td>\n",
       "      <td>0.0</td>\n",
       "    </tr>\n",
       "  </tbody>\n",
       "</table>\n",
       "</div>"
      ],
      "text/plain": [
       "                                                text  class\n",
       "0  i played this game with extremely high expecta...    1.0\n",
       "1  great in-game graphics that run at 60fps. only...    1.0\n",
       "2  a masterfully crafted hunting experience that ...    1.0\n",
       "3  if you're looking for a game that will make yo...    1.0\n",
       "4  so didn't really pay much attention to this ga...    0.0"
      ]
     },
     "execution_count": 21,
     "metadata": {},
     "output_type": "execute_result"
    }
   ],
   "source": [
    "df = pd.concat([pos, neg]).sample(frac=1).reset_index(drop=True)\n",
    "df.head()"
   ]
  },
  {
   "cell_type": "code",
   "execution_count": 22,
   "metadata": {},
   "outputs": [
    {
     "data": {
      "text/plain": [
       "(40856, 2)"
      ]
     },
     "execution_count": 22,
     "metadata": {},
     "output_type": "execute_result"
    }
   ],
   "source": [
    "df.shape"
   ]
  },
  {
   "cell_type": "markdown",
   "metadata": {},
   "source": [
    "##### Split data into train and test set"
   ]
  },
  {
   "cell_type": "code",
   "execution_count": 23,
   "metadata": {},
   "outputs": [],
   "source": [
    "X_train, X_test, y_train, y_test = train_test_split(df['text'].values, df['class'].values, test_size=0.2, random_state=42)"
   ]
  },
  {
   "cell_type": "code",
   "execution_count": 24,
   "metadata": {},
   "outputs": [
    {
     "data": {
      "text/plain": [
       "(32684, 8172, 32684, 8172)"
      ]
     },
     "execution_count": 24,
     "metadata": {},
     "output_type": "execute_result"
    }
   ],
   "source": [
    "len(X_train), len(X_test), len(y_train), len(y_test)"
   ]
  },
  {
   "cell_type": "markdown",
   "metadata": {},
   "source": [
    "#### Defining tokenizer"
   ]
  },
  {
   "cell_type": "code",
   "execution_count": 25,
   "metadata": {},
   "outputs": [],
   "source": [
    "re_tok = re.compile(f'([{string.punctuation}“”¨«»®´·º½¾¿¡§£₤‘’])')\n",
    "def tokenize(s): return re_tok.sub(r' \\1 ', s).split()"
   ]
  },
  {
   "cell_type": "code",
   "execution_count": 26,
   "metadata": {},
   "outputs": [
    {
     "data": {
      "text/plain": [
       "re.compile(r'([!\"#$%&\\'()*+,-./:;<=>?@[\\]^_`{|}~“”¨«»®´·º½¾¿¡§£₤‘’])',\n",
       "re.UNICODE)"
      ]
     },
     "execution_count": 26,
     "metadata": {},
     "output_type": "execute_result"
    }
   ],
   "source": [
    "re_tok"
   ]
  },
  {
   "cell_type": "markdown",
   "metadata": {},
   "source": [
    "#### Creating bag of words"
   ]
  },
  {
   "cell_type": "code",
   "execution_count": 27,
   "metadata": {},
   "outputs": [],
   "source": [
    "vect = CountVectorizer(tokenizer=tokenize)"
   ]
  },
  {
   "cell_type": "code",
   "execution_count": 28,
   "metadata": {},
   "outputs": [
    {
     "data": {
      "text/plain": [
       "CountVectorizer(analyzer='word', binary=False, decode_error='strict',\n",
       "        dtype=<class 'numpy.int64'>, encoding='utf-8', input='content',\n",
       "        lowercase=True, max_df=1.0, max_features=None, min_df=1,\n",
       "        ngram_range=(1, 1), preprocessor=None, stop_words=None,\n",
       "        strip_accents=None, token_pattern='(?u)\\\\b\\\\w\\\\w+\\\\b',\n",
       "        tokenizer=<function tokenize at 0x7f4831300488>, vocabulary=None)"
      ]
     },
     "execution_count": 28,
     "metadata": {},
     "output_type": "execute_result"
    }
   ],
   "source": [
    "vect"
   ]
  },
  {
   "cell_type": "code",
   "execution_count": 29,
   "metadata": {},
   "outputs": [],
   "source": [
    "tf_train = vect.fit_transform(X_train)\n",
    "tf_test = vect.transform(X_test)"
   ]
  },
  {
   "cell_type": "raw",
   "metadata": {},
   "source": [
    "\n",
    "Train term frequency contains 32675 documents and 45424 tokens. Each row represents a document and each column how many times that token appears on the document."
   ]
  },
  {
   "cell_type": "code",
   "execution_count": 30,
   "metadata": {},
   "outputs": [
    {
     "data": {
      "text/plain": [
       "<32684x45346 sparse matrix of type '<class 'numpy.int64'>'\n",
       "\twith 2565486 stored elements in Compressed Sparse Row format>"
      ]
     },
     "execution_count": 30,
     "metadata": {},
     "output_type": "execute_result"
    }
   ],
   "source": [
    "tf_train"
   ]
  },
  {
   "cell_type": "code",
   "execution_count": 31,
   "metadata": {},
   "outputs": [
    {
     "data": {
      "text/plain": [
       "<1x45346 sparse matrix of type '<class 'numpy.int64'>'\n",
       "\twith 23 stored elements in Compressed Sparse Row format>"
      ]
     },
     "execution_count": 31,
     "metadata": {},
     "output_type": "execute_result"
    }
   ],
   "source": [
    "tf_train[0]"
   ]
  },
  {
   "cell_type": "code",
   "execution_count": 32,
   "metadata": {},
   "outputs": [
    {
     "data": {
      "text/plain": [
       "45346"
      ]
     },
     "execution_count": 32,
     "metadata": {},
     "output_type": "execute_result"
    }
   ],
   "source": [
    "vocab = vect.get_feature_names()\n",
    "len(vocab)"
   ]
  },
  {
   "cell_type": "code",
   "execution_count": 33,
   "metadata": {},
   "outputs": [
    {
     "data": {
      "text/plain": [
       "['aw2', 'awad', 'await', 'awaited', 'awaiting']"
      ]
     },
     "execution_count": 33,
     "metadata": {},
     "output_type": "execute_result"
    }
   ],
   "source": [
    "vocab[4000: 4005]"
   ]
  },
  {
   "cell_type": "code",
   "execution_count": 34,
   "metadata": {},
   "outputs": [
    {
     "data": {
      "text/plain": [
       "'the division is a visual feast. from the dynamic lighting to the realistic environments, taking it all in can be breathtaking at times.'"
      ]
     },
     "execution_count": 34,
     "metadata": {},
     "output_type": "execute_result"
    }
   ],
   "source": [
    "X_train[0]"
   ]
  },
  {
   "cell_type": "code",
   "execution_count": 35,
   "metadata": {},
   "outputs": [],
   "source": [
    "w0 = set([o for o in X_train[0].split(' ')])"
   ]
  },
  {
   "cell_type": "code",
   "execution_count": 36,
   "metadata": {},
   "outputs": [
    {
     "data": {
      "text/plain": [
       "{'a',\n",
       " 'all',\n",
       " 'at',\n",
       " 'be',\n",
       " 'breathtaking',\n",
       " 'can',\n",
       " 'division',\n",
       " 'dynamic',\n",
       " 'environments,',\n",
       " 'feast.',\n",
       " 'from',\n",
       " 'in',\n",
       " 'is',\n",
       " 'it',\n",
       " 'lighting',\n",
       " 'realistic',\n",
       " 'taking',\n",
       " 'the',\n",
       " 'times.',\n",
       " 'to',\n",
       " 'visual'}"
      ]
     },
     "execution_count": 36,
     "metadata": {},
     "output_type": "execute_result"
    }
   ],
   "source": [
    "w0"
   ]
  },
  {
   "cell_type": "code",
   "execution_count": 37,
   "metadata": {},
   "outputs": [
    {
     "data": {
      "text/plain": [
       "42286"
      ]
     },
     "execution_count": 37,
     "metadata": {},
     "output_type": "execute_result"
    }
   ],
   "source": [
    "vect.vocabulary_['unless']"
   ]
  },
  {
   "cell_type": "code",
   "execution_count": 38,
   "metadata": {},
   "outputs": [
    {
     "data": {
      "text/plain": [
       "0"
      ]
     },
     "execution_count": 38,
     "metadata": {},
     "output_type": "execute_result"
    }
   ],
   "source": [
    "tf_train[0, 41989]"
   ]
  },
  {
   "cell_type": "markdown",
   "metadata": {},
   "source": [
    "## Multinomial Naive Bayes"
   ]
  },
  {
   "cell_type": "markdown",
   "metadata": {},
   "source": [
    "Here we reduce our training data to 2 dimentions (using TruncatedSVD rather than PCA because we are working with sparse matrices) and then we plot it in order to roughly see how classes are separated"
   ]
  },
  {
   "cell_type": "code",
   "execution_count": 39,
   "metadata": {},
   "outputs": [],
   "source": [
    "svd = TruncatedSVD()\n",
    "reduced_tf_train = svd.fit_transform(tf_train)"
   ]
  },
  {
   "cell_type": "code",
   "execution_count": 40,
   "metadata": {},
   "outputs": [
    {
     "data": {
      "text/plain": [
       "[<matplotlib.lines.Line2D at 0x7f4831b3e5c0>,\n",
       " <matplotlib.lines.Line2D at 0x7f4831b47c50>]"
      ]
     },
     "execution_count": 40,
     "metadata": {},
     "output_type": "execute_result"
    },
    {
     "data": {
      "image/png": "[encoded data removed]",
      "text/plain": [
       "<Figure size 432x288 with 1 Axes>"
      ]
     },
     "metadata": {
      "needs_background": "light"
     },
     "output_type": "display_data"
    }
   ],
   "source": [
    "plt.plot(reduced_tf_train, y_train)"
   ]
  },
  {
   "cell_type": "code",
   "execution_count": 41,
   "metadata": {},
   "outputs": [],
   "source": [
    "p = tf_train[y_train==1].sum(0) + 1\n",
    "q = tf_train[y_train==0].sum(0) + 1\n",
    "r = np.log((p/p.sum())/(q/q.sum()))\n",
    "b = np.log(len(p)/len(q))"
   ]
  },
  {
   "cell_type": "code",
   "execution_count": 42,
   "metadata": {},
   "outputs": [
    {
     "name": "stdout",
     "output_type": "stream",
     "text": [
      "Accuracy: 0.9036955457660304\n"
     ]
    }
   ],
   "source": [
    "pre_preds = tf_test @ r.T + b\n",
    "preds = pre_preds.T > 0\n",
    "acc = (preds==y_test).mean()\n",
    "print(f'Accuracy: {acc}')"
   ]
  },
  {
   "cell_type": "code",
   "execution_count": 43,
   "metadata": {},
   "outputs": [
    {
     "name": "stderr",
     "output_type": "stream",
     "text": [
      "/home/ml/anaconda3/envs/py36/lib/python3.6/site-packages/sklearn/linear_model/logistic.py:432: FutureWarning: Default solver will be changed to 'lbfgs' in 0.22. Specify a solver to silence this warning.\n",
      "  FutureWarning)\n"
     ]
    },
    {
     "name": "stdout",
     "output_type": "stream",
     "text": [
      "Accuracy: 0.9309838472834068\n"
     ]
    },
    {
     "name": "stderr",
     "output_type": "stream",
     "text": [
      "/home/ml/anaconda3/envs/py36/lib/python3.6/site-packages/sklearn/svm/base.py:922: ConvergenceWarning: Liblinear failed to converge, increase the number of iterations.\n",
      "  \"the number of iterations.\", ConvergenceWarning)\n"
     ]
    }
   ],
   "source": [
    "model = LogisticRegression(C=0.2, dual=True)\n",
    "model.fit(tf_train, y_train)\n",
    "preds = model.predict(tf_test)\n",
    "acc = (preds==y_test).mean()\n",
    "print(f'Accuracy: {acc}')"
   ]
  },
  {
   "cell_type": "code",
   "execution_count": 56,
   "metadata": {},
   "outputs": [],
   "source": [
    "#plot_confusion_matrix(confusion_matrix(y_test, preds.T), classes=['Negative', 'Positive'], title='Confusion matrix')"
   ]
  },
  {
   "cell_type": "code",
   "execution_count": 51,
   "metadata": {},
   "outputs": [],
   "source": [
    "cm=confusion_matrix(y_test, preds.T)"
   ]
  },
  {
   "cell_type": "code",
   "execution_count": 53,
   "metadata": {},
   "outputs": [
    {
     "name": "stdout",
     "output_type": "stream",
     "text": [
      "[[3814  286]\n",
      " [ 278 3794]]\n"
     ]
    }
   ],
   "source": [
    "print(cm)"
   ]
  },
  {
   "cell_type": "code",
   "execution_count": 55,
   "metadata": {},
   "outputs": [
    {
     "data": {
      "image/png": "[encoded data removed]",
      "text/plain": [
       "<Figure size 432x288 with 1 Axes>"
      ]
     },
     "metadata": {
      "needs_background": "light"
     },
     "output_type": "display_data"
    }
   ],
   "source": [
    "plt.clf()\n",
    "plt.imshow(cm, interpolation='nearest', cmap=plt.cm.Wistia)\n",
    "classNames = ['Negative','Positive']\n",
    "plt.title('Confusion matrix')\n",
    "plt.ylabel('True label')\n",
    "plt.xlabel('Predicted label')\n",
    "tick_marks = np.arange(len(classNames))\n",
    "plt.xticks(tick_marks, classNames, rotation=45)\n",
    "plt.yticks(tick_marks, classNames)\n",
    "s = [['TN','FP'], ['FN', 'TP']]\n",
    "for i in range(2):\n",
    "    for j in range(2):\n",
    "        plt.text(j,i, str(s[i][j])+\" = \"+str(cm[i][j]))\n",
    "plt.show()"
   ]
  },
  {
   "cell_type": "code",
   "execution_count": null,
   "metadata": {},
   "outputs": [],
   "source": []
  }
 ],
 "metadata": {
  "kernelspec": {
   "display_name": "Python 3",
   "language": "python",
   "name": "python3"
  },
  "language_info": {
   "codemirror_mode": {
    "name": "ipython",
    "version": 3
   },
   "file_extension": ".py",
   "mimetype": "text/x-python",
   "name": "python",
   "nbconvert_exporter": "python",
   "pygments_lexer": "ipython3",
   "version": "3.7.2"
  }
 },
 "nbformat": 4,
 "nbformat_minor": 2
}
