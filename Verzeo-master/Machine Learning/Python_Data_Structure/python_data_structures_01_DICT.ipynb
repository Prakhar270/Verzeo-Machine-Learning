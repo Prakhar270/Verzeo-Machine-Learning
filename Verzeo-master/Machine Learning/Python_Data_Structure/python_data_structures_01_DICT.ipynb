{
  "nbformat": 4,
  "nbformat_minor": 0,
  "metadata": {
    "kernelspec": {
      "display_name": "Python 3",
      "language": "python",
      "name": "python3"
    },
    "language_info": {
      "codemirror_mode": {
        "name": "ipython",
        "version": 3
      },
      "file_extension": ".py",
      "mimetype": "text/x-python",
      "name": "python",
      "nbconvert_exporter": "python",
      "pygments_lexer": "ipython3",
      "version": "3.6.3"
    },
    "colab": {
      "name": "python-data-structures-01-DICT.ipynb",
      "provenance": []
    }
  },
  "cells": [
    {
      "cell_type": "code",
      "metadata": {
        "id": "eJRmTZcTMuOc",
        "colab_type": "code",
        "colab": {}
      },
      "source": [
        "# empty dictionary\n",
        "my_dict1 = {}\n",
        "\n",
        "# dictionary with integer keys\n",
        "my_dict2 = {1: 'apple', 2: 'ball'}\n",
        "\n",
        "# dictionary with mixed keys\n",
        "my_dict3 = {'name': 'John', 1: [2, 4, 3]}\n",
        "\n",
        "# using dict()\n",
        "my_dict4 = dict({1:'apple', 2:'ball'})\n",
        "\n",
        "# from sequence having each item as a pair\n",
        "my_dict5 = dict([(1,'apple'), (2,'ball')])"
      ],
      "execution_count": 0,
      "outputs": []
    },
    {
      "cell_type": "code",
      "metadata": {
        "id": "LNj4Z4xaT-Yy",
        "colab_type": "code",
        "colab": {}
      },
      "source": [
        "list1=[[2,3],[4,5]]"
      ],
      "execution_count": 0,
      "outputs": []
    },
    {
      "cell_type": "code",
      "metadata": {
        "id": "tFa4DsPJUI7i",
        "colab_type": "code",
        "outputId": "a11f9c20-1091-403a-9ffc-a43e964bf456",
        "colab": {
          "base_uri": "https://localhost:8080/",
          "height": 35
        }
      },
      "source": [
        "list1"
      ],
      "execution_count": 0,
      "outputs": [
        {
          "output_type": "execute_result",
          "data": {
            "text/plain": [
              "[[2, 3], [4, 5]]"
            ]
          },
          "metadata": {
            "tags": []
          },
          "execution_count": 14
        }
      ]
    },
    {
      "cell_type": "code",
      "metadata": {
        "id": "Fv68irdAUN1-",
        "colab_type": "code",
        "colab": {}
      },
      "source": [
        "dict1=dict(list1)"
      ],
      "execution_count": 0,
      "outputs": []
    },
    {
      "cell_type": "code",
      "metadata": {
        "id": "i74q-W6jU-LS",
        "colab_type": "code",
        "outputId": "432cc41e-7fb1-42a0-8268-b3a952527e8b",
        "colab": {
          "base_uri": "https://localhost:8080/",
          "height": 35
        }
      },
      "source": [
        "dict1"
      ],
      "execution_count": 0,
      "outputs": [
        {
          "output_type": "execute_result",
          "data": {
            "text/plain": [
              "{2: 3, 4: 5}"
            ]
          },
          "metadata": {
            "tags": []
          },
          "execution_count": 17
        }
      ]
    },
    {
      "cell_type": "code",
      "metadata": {
        "id": "n7bEcH8YTCOv",
        "colab_type": "code",
        "outputId": "88438dbd-432a-455e-9503-691df5133c91",
        "colab": {
          "base_uri": "https://localhost:8080/",
          "height": 35
        }
      },
      "source": [
        "type(my_dict5)"
      ],
      "execution_count": 0,
      "outputs": [
        {
          "output_type": "execute_result",
          "data": {
            "text/plain": [
              "dict"
            ]
          },
          "metadata": {
            "tags": []
          },
          "execution_count": 6
        }
      ]
    },
    {
      "cell_type": "code",
      "metadata": {
        "id": "sP4Z2YylMuOi",
        "colab_type": "code",
        "outputId": "72190481-32ab-4230-d19a-c1c3b6b40cff",
        "colab": {}
      },
      "source": [
        "# access elements from a dictionary\n",
        "# dictionary uses keys. Key can be used either inside square brackets \n",
        "# or with the get() method.\n",
        "\n",
        "my_dict = {'name1':'Jack', 'age': 26, 'name2':'bhupen', 'age': 29,}\n",
        "\n",
        "print(my_dict['name1'])\n",
        "# Trying to access keys which doesn't exist throws error\n",
        "#print(my_dict['name1'])\n",
        "\n",
        "print(my_dict.get('age'))\n",
        "\n",
        "my_dict.get('address')"
      ],
      "execution_count": 0,
      "outputs": [
        {
          "output_type": "stream",
          "text": [
            "Jack\n",
            "29\n"
          ],
          "name": "stdout"
        }
      ]
    },
    {
      "cell_type": "code",
      "metadata": {
        "id": "1l6nOB1TMuOo",
        "colab_type": "code",
        "outputId": "e4660f04-e401-4b20-9766-0b8d6f19ef50",
        "colab": {}
      },
      "source": [
        "# change or add elements in a dictionary\n",
        "# If the key is already present, value gets updated, else a new \n",
        "# key: value pair is added to the dictionary.\n",
        "my_dict = {'name':'Jack', 'age': 26}\n",
        "\n",
        "# update value\n",
        "my_dict['age'] = 27\n",
        "\n",
        "print(my_dict)\n",
        "\n",
        "# add item\n",
        "my_dict['address'] = 'Downtown'  \n",
        "\n",
        "print(my_dict)"
      ],
      "execution_count": 0,
      "outputs": [
        {
          "output_type": "stream",
          "text": [
            "{'name': 'Jack', 'age': 27}\n",
            "{'name': 'Jack', 'age': 27, 'address': 'Downtown'}\n"
          ],
          "name": "stdout"
        }
      ]
    },
    {
      "cell_type": "code",
      "metadata": {
        "id": "uWbYce4NMuOt",
        "colab_type": "code",
        "outputId": "354684af-ad7f-45a3-af16-5c763a8cfaee",
        "colab": {}
      },
      "source": [
        "# delete or remove elements from a dictionary\n",
        "# create a dictionary\n",
        "squares = {1: 1,  2: 4, 3: 9, 4: 16, 5:25}  \n",
        "\n",
        "# remove a particular item\n",
        "print(squares.pop(4))  \n",
        "\n",
        "# remove an arbitrary item\n",
        "print(squares.popitem())\n",
        "\n",
        "# delete a particular item\n",
        "del squares[5]  \n",
        "\n",
        "# remove all items\n",
        "squares.clear()\n",
        "\n",
        "# delete the dictionary itself\n",
        "del squares"
      ],
      "execution_count": 0,
      "outputs": [
        {
          "output_type": "stream",
          "text": [
            "16\n",
            "(5, 25)\n"
          ],
          "name": "stdout"
        },
        {
          "output_type": "error",
          "ename": "KeyError",
          "evalue": "5",
          "traceback": [
            "\u001b[1;31m---------------------------------------------------------------------------\u001b[0m",
            "\u001b[1;31mKeyError\u001b[0m                                  Traceback (most recent call last)",
            "\u001b[1;32m<ipython-input-4-5de5117ab819>\u001b[0m in \u001b[0;36m<module>\u001b[1;34m()\u001b[0m\n\u001b[0;32m     10\u001b[0m \u001b[1;33m\u001b[0m\u001b[0m\n\u001b[0;32m     11\u001b[0m \u001b[1;31m# delete a particular item\u001b[0m\u001b[1;33m\u001b[0m\u001b[1;33m\u001b[0m\u001b[0m\n\u001b[1;32m---> 12\u001b[1;33m \u001b[1;32mdel\u001b[0m \u001b[0msquares\u001b[0m\u001b[1;33m[\u001b[0m\u001b[1;36m5\u001b[0m\u001b[1;33m]\u001b[0m\u001b[1;33m\u001b[0m\u001b[0m\n\u001b[0m\u001b[0;32m     13\u001b[0m \u001b[1;33m\u001b[0m\u001b[0m\n\u001b[0;32m     14\u001b[0m \u001b[1;31m# remove all items\u001b[0m\u001b[1;33m\u001b[0m\u001b[1;33m\u001b[0m\u001b[0m\n",
            "\u001b[1;31mKeyError\u001b[0m: 5"
          ]
        }
      ]
    },
    {
      "cell_type": "code",
      "metadata": {
        "id": "s0IG0teLMuOy",
        "colab_type": "code",
        "outputId": "87043083-0864-433a-bac0-1ff7faeecbe8",
        "colab": {}
      },
      "source": [
        "# iterating\n",
        "stocks = {\n",
        "        'IBM': 146.48,\n",
        "        'MSFT':44.11,\n",
        "        'CSCO':25.54\n",
        "    }\n",
        "    \n",
        "# print out all the keys\n",
        "for c in stocks:\n",
        "    print(c, stocks[c])\n"
      ],
      "execution_count": 0,
      "outputs": [
        {
          "output_type": "stream",
          "text": [
            "IBM 146.48\n",
            "MSFT 44.11\n",
            "CSCO 25.54\n"
          ],
          "name": "stdout"
        }
      ]
    },
    {
      "cell_type": "code",
      "metadata": {
        "id": "26TfZlouMuO2",
        "colab_type": "code",
        "outputId": "5835b745-030e-40f7-f53f-3fff87ea7e94",
        "colab": {}
      },
      "source": [
        "for index in stocks:\n",
        "    print(index)\n",
        "    print()"
      ],
      "execution_count": 0,
      "outputs": [
        {
          "output_type": "stream",
          "text": [
            "IBM\n",
            "MSFT\n",
            "CSCO\n"
          ],
          "name": "stdout"
        }
      ]
    },
    {
      "cell_type": "code",
      "metadata": {
        "id": "YfdtrCIBMuO7",
        "colab_type": "code",
        "colab": {}
      },
      "source": [
        "# nested dictionary\n",
        "users = {'user1': {'name': 'John', 'age': '27', 'sex': 'Male'},\n",
        "          'user2': {'name': 'Marie', 'age': '22', 'sex': 'Female'}}"
      ],
      "execution_count": 0,
      "outputs": []
    },
    {
      "cell_type": "code",
      "metadata": {
        "id": "vRkbhHfsMuPA",
        "colab_type": "code",
        "outputId": "838ab0e1-1622-47cd-89bc-6852de769ec6",
        "colab": {}
      },
      "source": [
        "users"
      ],
      "execution_count": 0,
      "outputs": [
        {
          "output_type": "execute_result",
          "data": {
            "text/plain": [
              "{'user1': {'age': '27', 'name': 'John', 'sex': 'Male'},\n",
              " 'user2': {'age': '22', 'name': 'Marie', 'sex': 'Female'}}"
            ]
          },
          "metadata": {
            "tags": []
          },
          "execution_count": 8
        }
      ]
    },
    {
      "cell_type": "code",
      "metadata": {
        "id": "Oshlef0eMuPE",
        "colab_type": "code",
        "outputId": "4641477b-3cff-4610-ca25-c2b677410f32",
        "colab": {}
      },
      "source": [
        "print(users['user1']['name'])\n",
        "print(users['user1']['age'])\n",
        "print(users['user1']['sex'])"
      ],
      "execution_count": 0,
      "outputs": [
        {
          "output_type": "stream",
          "text": [
            "John\n",
            "27\n",
            "Male\n"
          ],
          "name": "stdout"
        }
      ]
    },
    {
      "cell_type": "code",
      "metadata": {
        "id": "GWLAW50fMuPJ",
        "colab_type": "code",
        "outputId": "0397dd5b-518d-478d-fd84-212964940ed6",
        "colab": {}
      },
      "source": [
        "my_list = [{'key': {'subkey': 1}}, {'key': {'subkey': 10}}, {'key': {'subkey': 5}}]\n",
        "print(\"Original List: \")\n",
        "print(my_list)\n"
      ],
      "execution_count": 0,
      "outputs": [
        {
          "output_type": "stream",
          "text": [
            "Original List: \n",
            "[{'key': {'subkey': 1}}, {'key': {'subkey': 10}}, {'key': {'subkey': 5}}]\n"
          ],
          "name": "stdout"
        }
      ]
    },
    {
      "cell_type": "code",
      "metadata": {
        "id": "9IkdakgXMuPP",
        "colab_type": "code",
        "outputId": "849d144d-4455-48a0-8ff6-b7de4213ba34",
        "colab": {}
      },
      "source": [
        "my_list.sort(key=lambda e: e['key']['subkey'], reverse=True)\n",
        "print(\"Sorted List: \")\n",
        "print(my_list)"
      ],
      "execution_count": 0,
      "outputs": [
        {
          "output_type": "stream",
          "text": [
            "Sorted List: \n",
            "[{'key': {'subkey': 10}}, {'key': {'subkey': 5}}, {'key': {'subkey': 1}}]\n"
          ],
          "name": "stdout"
        }
      ]
    },
    {
      "cell_type": "code",
      "metadata": {
        "id": "4FalPV9zMuPU",
        "colab_type": "code",
        "colab": {}
      },
      "source": [
        ""
      ],
      "execution_count": 0,
      "outputs": []
    },
    {
      "cell_type": "code",
      "metadata": {
        "id": "Fl69QhOtMuPb",
        "colab_type": "code",
        "colab": {}
      },
      "source": [
        ""
      ],
      "execution_count": 0,
      "outputs": []
    }
  ]
}