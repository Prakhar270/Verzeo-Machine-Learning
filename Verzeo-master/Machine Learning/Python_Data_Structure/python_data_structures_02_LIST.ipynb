{
  "nbformat": 4,
  "nbformat_minor": 0,
  "metadata": {
    "colab": {
      "name": "python-data-structures-02-LIST.ipynb",
      "provenance": []
    },
    "language_info": {
      "codemirror_mode": {
        "name": "ipython",
        "version": 3
      },
      "file_extension": ".py",
      "mimetype": "text/x-python",
      "name": "python",
      "nbconvert_exporter": "python",
      "pygments_lexer": "ipython3",
      "version": "3.6.3"
    },
    "kernelspec": {
      "display_name": "Python 3",
      "language": "python",
      "name": "python3"
    }
  },
  "cells": [
    {
      "cell_type": "code",
      "metadata": {
        "id": "mRcQNUfC0UTS",
        "colab_type": "code",
        "colab": {}
      },
      "source": [
        "# empty list\n",
        "my_list = []\n",
        "\n",
        "# list of integers\n",
        "my_list = [1, 2, 3]\n",
        "\n",
        "# list with mixed datatypes\n",
        "my_list = [1, \"Hello\", 3.4]\n",
        "\n",
        "# nested list\n",
        "n_list = [\"Happy\", [2,0,1,5]]"
      ],
      "execution_count": 0,
      "outputs": []
    },
    {
      "cell_type": "code",
      "metadata": {
        "id": "GRMlJZtgqU19",
        "colab_type": "code",
        "colab": {
          "base_uri": "https://localhost:8080/",
          "height": 34
        },
        "outputId": "3bcf7bff-bea6-4c54-cfec-34960cd44dd2"
      },
      "source": [
        "type(my_list)"
      ],
      "execution_count": 3,
      "outputs": [
        {
          "output_type": "execute_result",
          "data": {
            "text/plain": [
              "list"
            ]
          },
          "metadata": {
            "tags": []
          },
          "execution_count": 3
        }
      ]
    },
    {
      "cell_type": "code",
      "metadata": {
        "id": "AMh47B9gqwV_",
        "colab_type": "code",
        "colab": {
          "base_uri": "https://localhost:8080/",
          "height": 34
        },
        "outputId": "87a9240a-a9c5-460b-b778-65c6ad696472"
      },
      "source": [
        "shoplist = ['apple', 'mango', 'carrot', 'banana']\n",
        "print('I have', len(shoplist), 'items to purchase.')"
      ],
      "execution_count": 4,
      "outputs": [
        {
          "output_type": "stream",
          "text": [
            "I have 4 items to purchase.\n"
          ],
          "name": "stdout"
        }
      ]
    },
    {
      "cell_type": "code",
      "metadata": {
        "id": "K7U5H81zq-EB",
        "colab_type": "code",
        "colab": {
          "base_uri": "https://localhost:8080/",
          "height": 34
        },
        "outputId": "87b48e07-d996-4962-abff-39b7cf771547"
      },
      "source": [
        "shoplist[-1]"
      ],
      "execution_count": 7,
      "outputs": [
        {
          "output_type": "execute_result",
          "data": {
            "text/plain": [
              "'banana'"
            ]
          },
          "metadata": {
            "tags": []
          },
          "execution_count": 7
        }
      ]
    },
    {
      "cell_type": "code",
      "metadata": {
        "id": "CqnMDOe10UTZ",
        "colab_type": "code",
        "outputId": "d8163dda-7a9e-44a1-c523-79c2f79d3053",
        "colab": {
          "base_uri": "https://localhost:8080/",
          "height": 34
        }
      },
      "source": [
        "\n",
        "\n",
        "print('These items are:', end=' :ML-CLASS: ')\n",
        "# print('These items are:')\n",
        "\n",
        "for item in shoplist:\n",
        "    print(item, end=' : ')\n",
        "    #print(item)"
      ],
      "execution_count": 8,
      "outputs": [
        {
          "output_type": "stream",
          "text": [
            "These items are: :ML-CLASS: apple : mango : carrot : banana : "
          ],
          "name": "stdout"
        }
      ]
    },
    {
      "cell_type": "code",
      "metadata": {
        "id": "OylgN-D70UTh",
        "colab_type": "code",
        "outputId": "c232ebcd-a838-4c00-b80f-0f8babed0010",
        "colab": {}
      },
      "source": [
        "# By default python’s print() function ends with a newline. \n",
        "# how to print without newline.\n",
        "\n",
        "# Python’s print() function comes with a parameter called ‘end’. \n",
        "# By default, the value of this parameter is ‘\\n’, i.e. the new line character. \n",
        "# You can end a print statement with any character/string using this parameter.\n",
        "# ends the output with a <space> \n",
        "print(\"Welcome to\", end = ' ::' ) \n",
        "print(\" GeeksforGeeks\")"
      ],
      "execution_count": 0,
      "outputs": [
        {
          "output_type": "stream",
          "text": [
            "Welcome to :: GeeksforGeeks\n"
          ],
          "name": "stdout"
        }
      ]
    },
    {
      "cell_type": "code",
      "metadata": {
        "id": "cYbwMMVq0UTn",
        "colab_type": "code",
        "outputId": "f4d6eb2f-5906-44df-ade8-a87086089eb4",
        "colab": {}
      },
      "source": [
        "print(\"Welcome to\" ) \n",
        "print(\"GeeksforGeeks\")"
      ],
      "execution_count": 0,
      "outputs": [
        {
          "output_type": "stream",
          "text": [
            "Welcome to\n",
            "GeeksforGeeks\n"
          ],
          "name": "stdout"
        }
      ]
    },
    {
      "cell_type": "code",
      "metadata": {
        "id": "w2LJnD8ErypR",
        "colab_type": "code",
        "colab": {
          "base_uri": "https://localhost:8080/",
          "height": 163
        },
        "outputId": "d135b7b2-9d2b-4c9f-f536-5b168774351f"
      },
      "source": [
        "shoplist.append('Brinjal', 'Potato')"
      ],
      "execution_count": 11,
      "outputs": [
        {
          "output_type": "error",
          "ename": "TypeError",
          "evalue": "ignored",
          "traceback": [
            "\u001b[0;31m---------------------------------------------------------------------------\u001b[0m",
            "\u001b[0;31mTypeError\u001b[0m                                 Traceback (most recent call last)",
            "\u001b[0;32m<ipython-input-11-cb45ac3bad5d>\u001b[0m in \u001b[0;36m<module>\u001b[0;34m()\u001b[0m\n\u001b[0;32m----> 1\u001b[0;31m \u001b[0mshoplist\u001b[0m\u001b[0;34m.\u001b[0m\u001b[0mappend\u001b[0m\u001b[0;34m(\u001b[0m\u001b[0;34m'Brinjal'\u001b[0m\u001b[0;34m,\u001b[0m \u001b[0;34m'Potato'\u001b[0m\u001b[0;34m)\u001b[0m\u001b[0;34m\u001b[0m\u001b[0;34m\u001b[0m\u001b[0m\n\u001b[0m",
            "\u001b[0;31mTypeError\u001b[0m: append() takes exactly one argument (2 given)"
          ]
        }
      ]
    },
    {
      "cell_type": "code",
      "metadata": {
        "id": "XYaibvRisAwf",
        "colab_type": "code",
        "colab": {
          "base_uri": "https://localhost:8080/",
          "height": 34
        },
        "outputId": "cfd559e6-7451-445d-de25-f07ac403cb79"
      },
      "source": [
        "shoplist"
      ],
      "execution_count": 10,
      "outputs": [
        {
          "output_type": "execute_result",
          "data": {
            "text/plain": [
              "['apple', 'mango', 'carrot', 'banana', ['Brinjal', 'Potato']]"
            ]
          },
          "metadata": {
            "tags": []
          },
          "execution_count": 10
        }
      ]
    },
    {
      "cell_type": "code",
      "metadata": {
        "id": "uQ31tD-R0UTt",
        "colab_type": "code",
        "outputId": "bc993c18-63e3-40d0-d37b-910943a99f1c",
        "colab": {}
      },
      "source": [
        "# append to list\n",
        "# add one item to a list using append() method or \n",
        "# add several items using extend()\n",
        "print('\\nI also have to buy rice.')\n",
        "\n",
        "shoplist.append('rice')\n",
        "print('My shopping list is now', shoplist)\n",
        "\n",
        "shoplist.extend(['table', 'chair', 'pen'])\n",
        "print('My shopping list is now', shoplist)\n",
        "\n",
        "# use + operator to combine two lists. This is also called concatenation.\n",
        "shoplist1 = ['a', 'b', 'c']\n",
        "\n",
        "shoplist = shoplist + shoplist1\n",
        "print('My shopping list is now', shoplist)"
      ],
      "execution_count": 0,
      "outputs": [
        {
          "output_type": "stream",
          "text": [
            "\n",
            "I also have to buy rice.\n",
            "My shopping list is now ['apple', 'mango', 'carrot', 'banana', 'rice']\n",
            "My shopping list is now ['apple', 'mango', 'carrot', 'banana', 'rice', 'table', 'chair', 'pen']\n",
            "My shopping list is now ['apple', 'mango', 'carrot', 'banana', 'rice', 'table', 'chair', 'pen', 'a', 'b', 'c']\n"
          ],
          "name": "stdout"
        }
      ]
    },
    {
      "cell_type": "code",
      "metadata": {
        "id": "-CdOt0Uq0UTz",
        "colab_type": "code",
        "outputId": "b58d62fb-11f1-436c-b3cf-46d5c06de1bb",
        "colab": {}
      },
      "source": [
        "shoplist."
      ],
      "execution_count": 0,
      "outputs": [
        {
          "output_type": "error",
          "ename": "SyntaxError",
          "evalue": "invalid syntax (<ipython-input-6-82fedf31e038>, line 1)",
          "traceback": [
            "\u001b[1;36m  File \u001b[1;32m\"<ipython-input-6-82fedf31e038>\"\u001b[1;36m, line \u001b[1;32m1\u001b[0m\n\u001b[1;33m    shoplist.\u001b[0m\n\u001b[1;37m             ^\u001b[0m\n\u001b[1;31mSyntaxError\u001b[0m\u001b[1;31m:\u001b[0m invalid syntax\n"
          ]
        }
      ]
    },
    {
      "cell_type": "code",
      "metadata": {
        "id": "MZsCeccM0UT6",
        "colab_type": "code",
        "outputId": "f995ac55-5558-45ba-8226-83f4d7599461",
        "colab": {
          "base_uri": "https://localhost:8080/",
          "height": 35
        }
      },
      "source": [
        "print(shoplist)"
      ],
      "execution_count": 0,
      "outputs": [
        {
          "output_type": "stream",
          "text": [
            "['apple', 'mango', 'carrot', 'banana']\n"
          ],
          "name": "stdout"
        }
      ]
    },
    {
      "cell_type": "code",
      "metadata": {
        "id": "tsaK6DyG0UUA",
        "colab_type": "code",
        "outputId": "46b5e2dd-7138-453c-bd0a-b79afb73fdb2",
        "colab": {
          "base_uri": "https://localhost:8080/",
          "height": 90
        }
      },
      "source": [
        "\n",
        "# accessing a list\n",
        "print(shoplist[0])\n",
        "print(shoplist[1])\n",
        "\n",
        "print(shoplist[0][1])    \n",
        "\n",
        "print(shoplist[1][3])"
      ],
      "execution_count": 0,
      "outputs": [
        {
          "output_type": "stream",
          "text": [
            "apple\n",
            "mango\n",
            "p\n",
            "g\n"
          ],
          "name": "stdout"
        }
      ]
    },
    {
      "cell_type": "code",
      "metadata": {
        "id": "C2SKOFJt0UUG",
        "colab_type": "code",
        "outputId": "af23f88a-24f8-4920-e1e3-160203fdbce2",
        "colab": {
          "base_uri": "https://localhost:8080/",
          "height": 54
        }
      },
      "source": [
        "# Negative indexing\n",
        "# Python allows negative indexing for its sequences. \n",
        "# The index of -1 refers to the last item, -2 to the second last item and so on.\n",
        "print(shoplist[-1])\n",
        "print(shoplist[-4])"
      ],
      "execution_count": 0,
      "outputs": [
        {
          "output_type": "stream",
          "text": [
            "banana\n",
            "apple\n"
          ],
          "name": "stdout"
        }
      ]
    },
    {
      "cell_type": "code",
      "metadata": {
        "id": "PdVFZi900UUQ",
        "colab_type": "code",
        "outputId": "8f1b15ba-82f4-4f5f-afa1-c1ced97d1331",
        "colab": {}
      },
      "source": [
        "print(shoplist)"
      ],
      "execution_count": 0,
      "outputs": [
        {
          "output_type": "stream",
          "text": [
            "['apple', 'mango', 'carrot', 'banana', 'rice', 'table', 'chair', 'pen', 'a', 'b', 'c']\n"
          ],
          "name": "stdout"
        }
      ]
    },
    {
      "cell_type": "code",
      "metadata": {
        "id": "X6BOafjv0UUX",
        "colab_type": "code",
        "outputId": "9bf42ba7-fc80-4117-8556-b21501132b3b",
        "colab": {}
      },
      "source": [
        "# slice lists \n",
        "# elements beginning to 3rd\n",
        "print(shoplist[:3])\n",
        "\n",
        "# elements 2nd to end\n",
        "print(shoplist[2:])\n",
        "\n",
        "# elements beginning to end\n",
        "print(shoplist[:])"
      ],
      "execution_count": 0,
      "outputs": [
        {
          "output_type": "stream",
          "text": [
            "['apple', 'mango', 'carrot']\n",
            "['carrot', 'banana', 'rice', 'table', 'chair', 'pen', 'a', 'b', 'c']\n",
            "['apple', 'mango', 'carrot', 'banana', 'rice', 'table', 'chair', 'pen', 'a', 'b', 'c']\n"
          ],
          "name": "stdout"
        }
      ]
    },
    {
      "cell_type": "code",
      "metadata": {
        "id": "fu6Xa3Wh0UUd",
        "colab_type": "code",
        "outputId": "359f33f2-c4e4-43e1-8ff4-fef18a2b9a2d",
        "colab": {}
      },
      "source": [
        "# sort the list\n",
        "print('I will sort my list now')\n",
        "shoplist.sort()\n",
        "\n",
        "print('Sorted shopping list is', shoplist)\n"
      ],
      "execution_count": 0,
      "outputs": [
        {
          "output_type": "stream",
          "text": [
            "I will sort my list now\n",
            "Sorted shopping list is ['a', 'apple', 'b', 'banana', 'c', 'carrot', 'chair', 'mango', 'pen', 'rice', 'table']\n"
          ],
          "name": "stdout"
        }
      ]
    },
    {
      "cell_type": "code",
      "metadata": {
        "id": "ht7Z8DiX0UUi",
        "colab_type": "code",
        "outputId": "9f0d86a7-9db4-489d-b93b-03e99cb7d1fa",
        "colab": {}
      },
      "source": [
        "# make changes to list\n",
        "shoplist[1] = \"new item\"\n",
        "print(shoplist[:])"
      ],
      "execution_count": 0,
      "outputs": [
        {
          "output_type": "stream",
          "text": [
            "['a', 'new item', 'b', 'banana', 'c', 'carrot', 'chair', 'mango', 'pen', 'rice', 'table']\n"
          ],
          "name": "stdout"
        }
      ]
    },
    {
      "cell_type": "code",
      "metadata": {
        "scrolled": true,
        "id": "Be0UowFx0UUo",
        "colab_type": "code",
        "outputId": "5b53d36e-06d4-4304-b9fd-aace638feba9",
        "colab": {}
      },
      "source": [
        "# delete a list item\n",
        "print('The first item I will buy is', shoplist[0])\n",
        "olditem = shoplist[0]\n",
        "\n",
        "del shoplist[0]\n",
        "print('I bought the', olditem)\n",
        "print('My shopping list is now', shoplist)"
      ],
      "execution_count": 0,
      "outputs": [
        {
          "output_type": "stream",
          "text": [
            "The first item I will buy is a\n",
            "I bought the a\n",
            "My shopping list is now ['new item', 'b', 'banana', 'c', 'carrot', 'chair', 'mango', 'pen', 'rice', 'table']\n"
          ],
          "name": "stdout"
        }
      ]
    },
    {
      "cell_type": "code",
      "metadata": {
        "id": "hgJ0k1se0UUw",
        "colab_type": "code",
        "colab": {}
      },
      "source": [
        "# Remove method: takes a value as input, searches for it, \n",
        "# removes the first match. If the item is not found it errors out\n",
        "\n",
        "# del function: removes an item at a specific index, can delete all elements or a slice\n",
        "# pop method: by default, it removes and returns the last element but you \n",
        "# can pop any element by providing an index"
      ],
      "execution_count": 0,
      "outputs": []
    },
    {
      "cell_type": "code",
      "metadata": {
        "id": "xbT90g_K0UU1",
        "colab_type": "code",
        "outputId": "bab6379d-3086-4939-92ca-70522bf49b92",
        "colab": {}
      },
      "source": [
        "A = [1, 2, 4, 3, 4]\n",
        "A.remove(4)\n",
        "\n",
        "# This will print [1, 2, 3, 4]\n",
        "print(\"Example 1 : A = {}\".format(A))"
      ],
      "execution_count": 0,
      "outputs": [
        {
          "output_type": "stream",
          "text": [
            "Example 1 : A = [1, 2, 3, 4]\n"
          ],
          "name": "stdout"
        }
      ]
    },
    {
      "cell_type": "code",
      "metadata": {
        "id": "Hq4TLgPt0UU7",
        "colab_type": "code",
        "outputId": "47e4beb9-0e24-45f2-916f-dab1e6170d3e",
        "colab": {}
      },
      "source": [
        "# (2) Delete an item with index\n",
        "A = [1, 2, 4, 3, 4]\n",
        "del A[2]\n",
        "\n",
        "# This will print [1, 2, 3, 4]\n",
        "print(\"Example 2 : A = {}\".format(A))"
      ],
      "execution_count": 0,
      "outputs": [
        {
          "output_type": "stream",
          "text": [
            "Example 2 : A = [1, 2, 3, 4]\n"
          ],
          "name": "stdout"
        }
      ]
    },
    {
      "cell_type": "code",
      "metadata": {
        "id": "5rP4rBjF0UVB",
        "colab_type": "code",
        "outputId": "0b7f9f3e-377b-4cb1-c8ef-429d0136f978",
        "colab": {}
      },
      "source": [
        "# (3) Delete all items\n",
        "A = [1, 2, 4, 3, 4]\n",
        "del A[:]\n",
        "\n",
        "# This will print []\n",
        "print(\"Example 3 : A = {}\".format(A))"
      ],
      "execution_count": 0,
      "outputs": [
        {
          "output_type": "stream",
          "text": [
            "Example 3 : A = []\n"
          ],
          "name": "stdout"
        }
      ]
    },
    {
      "cell_type": "code",
      "metadata": {
        "id": "lHZ5MhJBukav",
        "colab_type": "code",
        "colab": {}
      },
      "source": [
        "# (4) Delete a slice 2, 4\n",
        "A = [1, 2, 4, 3, 4]\n",
        "del A[1:3]"
      ],
      "execution_count": 0,
      "outputs": []
    },
    {
      "cell_type": "code",
      "metadata": {
        "id": "6mhbQe7uumTB",
        "colab_type": "code",
        "colab": {
          "base_uri": "https://localhost:8080/",
          "height": 34
        },
        "outputId": "c63d9bca-0373-470d-82f6-7ae9e8945ddf"
      },
      "source": [
        "print(A)"
      ],
      "execution_count": 13,
      "outputs": [
        {
          "output_type": "stream",
          "text": [
            "[1, 3, 4]\n"
          ],
          "name": "stdout"
        }
      ]
    },
    {
      "cell_type": "code",
      "metadata": {
        "id": "3J0Pc04x0UVK",
        "colab_type": "code",
        "outputId": "9aedc895-39b6-4f11-c04e-6b16dee28c59",
        "colab": {}
      },
      "source": [
        "# (4) Delete a slice 2, 4\n",
        "A = [1, 2, 4, 3, 4]\n",
        "del A[1:3]\n",
        "\n",
        "# This will print [1, 3, 4]\n",
        "print(\"Example 4 : A = {}\".format(A))"
      ],
      "execution_count": 0,
      "outputs": [
        {
          "output_type": "stream",
          "text": [
            "Example 4 : A = [1, 3, 4]\n"
          ],
          "name": "stdout"
        }
      ]
    },
    {
      "cell_type": "code",
      "metadata": {
        "id": "L6up333p0UVS",
        "colab_type": "code",
        "outputId": "09a87a6e-8758-44aa-d96e-d63d2eba4a74",
        "colab": {
          "base_uri": "https://localhost:8080/",
          "height": 54
        }
      },
      "source": [
        "# (5) pop: remove and get the last item\n",
        "A = [1, 2, 4, 3, 4]\n",
        "x = A.pop()\n",
        "\n",
        "# This will print [1, 2, 4, 3]\n",
        "print(\"Example 5 : A = {}\".format(A))\n",
        "\n",
        "# This will print 4\n",
        "print(\"Example 5 : x = {}\".format(x))"
      ],
      "execution_count": 0,
      "outputs": [
        {
          "output_type": "stream",
          "text": [
            "Example 5 : A = [1, 2, 4, 3]\n",
            "Example 5 : x = 4\n"
          ],
          "name": "stdout"
        }
      ]
    },
    {
      "cell_type": "code",
      "metadata": {
        "id": "e3I64Oa40UVY",
        "colab_type": "code",
        "outputId": "31d35e76-0234-4cb9-9a0a-2b5f84f2d6d7",
        "colab": {}
      },
      "source": [
        "# (6) pop with index: remove and get the second item\n",
        "A = [1, 2, 4, 3, 4]\n",
        "x = A.pop(1)\n",
        "\n",
        "# This will print [1, 4, 3, 4]\n",
        "print(\"Example 6 : A = {}\".format(A))\n",
        "# This will print 2\n",
        "print(\"Example 6 : x = {}\".format(x))"
      ],
      "execution_count": 0,
      "outputs": [
        {
          "output_type": "stream",
          "text": [
            "Example 6 : A = [1, 4, 3, 4]\n",
            "Example 6 : x = 2\n"
          ],
          "name": "stdout"
        }
      ]
    },
    {
      "cell_type": "code",
      "metadata": {
        "id": "GNoqZmuN0UVf",
        "colab_type": "code",
        "colab": {}
      },
      "source": [
        "# Python List Methods\n",
        "# Methods that are available with list object \n",
        "\n",
        "# Are accessed as list.method(). \n",
        "'''\n",
        "append() - Add an element to the end of the list\n",
        "extend() - Add all elements of a list to the another list\n",
        "insert() - Insert an item at the defined index\n",
        "remove() - Removes an item from the list\n",
        "pop() - Removes and returns an element at the given index\n",
        "clear() - Removes all items from the list\n",
        "index() - Returns the index of the first matched item\n",
        "count() - Returns the count of number of items passed as an argument\n",
        "sort() - Sort items in a list in ascending order\n",
        "reverse() - Reverse the order of items in the list\n",
        "copy() - Returns a shallow copy of the list\n",
        "'''"
      ],
      "execution_count": 0,
      "outputs": []
    },
    {
      "cell_type": "code",
      "metadata": {
        "id": "zm0lfbJE0UVn",
        "colab_type": "code",
        "colab": {}
      },
      "source": [
        ""
      ],
      "execution_count": 0,
      "outputs": []
    },
    {
      "cell_type": "code",
      "metadata": {
        "id": "x8rtFw3S0UVq",
        "colab_type": "code",
        "outputId": "fa6a7cd5-9d35-4d1d-b975-d929dcf8a0af",
        "colab": {}
      },
      "source": [
        "# insert() \t\t- Insert an item at the defined index\n",
        "shoplist.insert(2, \"INSERTED ITEM\")\n",
        "print('My shopping list is now', shoplist)"
      ],
      "execution_count": 0,
      "outputs": [
        {
          "output_type": "stream",
          "text": [
            "My shopping list is now ['new item', 'b', 'INSERTED ITEM', 'banana', 'c', 'carrot', 'chair', 'mango', 'pen', 'rice', 'table']\n"
          ],
          "name": "stdout"
        }
      ]
    },
    {
      "cell_type": "code",
      "metadata": {
        "id": "DdPPTRMW0UVv",
        "colab_type": "code",
        "outputId": "92ed3656-7961-48a8-80bf-8092d3966619",
        "colab": {}
      },
      "source": [
        "# remove() - Removes an item from the list\n",
        "shoplist.remove(\"INSERTED ITEM\")\n",
        "print('My shopping list is now', shoplist)"
      ],
      "execution_count": 0,
      "outputs": [
        {
          "output_type": "stream",
          "text": [
            "My shopping list is now ['new item', 'b', 'banana', 'c', 'carrot', 'chair', 'mango', 'pen', 'rice', 'table']\n"
          ],
          "name": "stdout"
        }
      ]
    },
    {
      "cell_type": "code",
      "metadata": {
        "id": "Vc6zl5dW0UV2",
        "colab_type": "code",
        "outputId": "b7e79caf-c140-4350-a7b8-ad6aa407b096",
        "colab": {}
      },
      "source": [
        "# pop() - Removes and returns an element at the given index\n",
        "shoplist.pop()\n",
        "print('My shopping list is now', shoplist)"
      ],
      "execution_count": 0,
      "outputs": [
        {
          "output_type": "stream",
          "text": [
            "My shopping list is now ['new item', 'b', 'banana', 'c', 'carrot', 'chair', 'mango', 'pen', 'rice']\n"
          ],
          "name": "stdout"
        }
      ]
    },
    {
      "cell_type": "code",
      "metadata": {
        "id": "rYpI608k0UV6",
        "colab_type": "code",
        "outputId": "333e516e-db17-407e-bf14-20d3d5d8880a",
        "colab": {}
      },
      "source": [
        "# index() - Returns the index of the first matched item\n",
        "pos = shoplist.index('table')\n",
        "print('position of matched item is : ', pos)"
      ],
      "execution_count": 0,
      "outputs": [
        {
          "output_type": "stream",
          "text": [
            "position of matched item is :  3\n"
          ],
          "name": "stdout"
        }
      ]
    },
    {
      "cell_type": "code",
      "metadata": {
        "id": "DaCKgG2T0UWA",
        "colab_type": "code",
        "outputId": "013e622c-528f-4c3a-bd8a-b5c4b902af60",
        "colab": {}
      },
      "source": [
        "# count() - Returns the number of occurances of the matched item\n",
        "cnt = shoplist.count('table')\n",
        "print('count of matched item is : ', cnt)"
      ],
      "execution_count": 0,
      "outputs": [
        {
          "output_type": "stream",
          "text": [
            "count of matched item is :  2\n"
          ],
          "name": "stdout"
        }
      ]
    },
    {
      "cell_type": "code",
      "metadata": {
        "id": "7C_f1Pko0UWH",
        "colab_type": "code",
        "outputId": "71e7c167-8922-402d-ce98-80e3e8f40d6b",
        "colab": {}
      },
      "source": [
        "# creating list of \n",
        "powerList = []\n",
        "for x in range(10):\n",
        "   powerList.append(2 ** x)\n",
        "\n",
        "print(powerList)\n"
      ],
      "execution_count": 0,
      "outputs": [
        {
          "output_type": "stream",
          "text": [
            "[1, 2, 4, 8, 16, 32, 64, 128, 256, 512]\n"
          ],
          "name": "stdout"
        }
      ]
    },
    {
      "cell_type": "code",
      "metadata": {
        "id": "J-d7t7Fa0UWT",
        "colab_type": "code",
        "colab": {}
      },
      "source": [
        "# list comprehension\n",
        "# List comprehension consists of an expression followed by for statement \n",
        "# inside squar ** x for x in range(10)e brackets.\n",
        "powerList = [2]"
      ],
      "execution_count": 0,
      "outputs": []
    },
    {
      "cell_type": "code",
      "metadata": {
        "id": "gF452RMm0UWX",
        "colab_type": "code",
        "outputId": "d8d6f325-ea62-4528-8126-86a5905b9a08",
        "colab": {}
      },
      "source": [
        "# list comprehension with if \n",
        "powerList = [2 ** x for x in range(10) ]\n",
        "\n",
        "print(powerList)"
      ],
      "execution_count": 0,
      "outputs": [
        {
          "output_type": "stream",
          "text": [
            "[1, 2, 4, 8, 16, 32, 64, 128, 256, 512]\n"
          ],
          "name": "stdout"
        }
      ]
    },
    {
      "cell_type": "code",
      "metadata": {
        "id": "UstNBaFH0UWd",
        "colab_type": "code",
        "outputId": "1f2fdecd-5188-4360-c0b9-b4289b9ca203",
        "colab": {}
      },
      "source": [
        "for x in range(10):\n",
        "    print(x)"
      ],
      "execution_count": 0,
      "outputs": [
        {
          "output_type": "stream",
          "text": [
            "0\n",
            "1\n",
            "2\n",
            "3\n",
            "4\n",
            "5\n",
            "6\n",
            "7\n",
            "8\n",
            "9\n"
          ],
          "name": "stdout"
        }
      ]
    },
    {
      "cell_type": "code",
      "metadata": {
        "id": "zZFhpr3R0UWk",
        "colab_type": "code",
        "outputId": "ed98916c-9ef8-4601-eecf-cca4fff0507e",
        "colab": {}
      },
      "source": [
        "# build powerList of odd numbers\n",
        "oddpowerList = [2 ** x for x in range(20) if x % 2 == 1]\n",
        "print(oddpowerList)"
      ],
      "execution_count": 0,
      "outputs": [
        {
          "output_type": "stream",
          "text": [
            "[2, 8, 32, 128, 512, 2048, 8192, 32768, 131072, 524288]\n"
          ],
          "name": "stdout"
        }
      ]
    },
    {
      "cell_type": "code",
      "metadata": {
        "id": "jcwgLapz0UWx",
        "colab_type": "code",
        "outputId": "7c4996cd-9196-4e6b-95c9-a72ccbb3eebd",
        "colab": {}
      },
      "source": [
        "# build powerList of even numbers\n",
        "evenpowerList = [2 ** x for x in range(20) if x % 2 == 0]\n",
        "print(evenpowerList)"
      ],
      "execution_count": 0,
      "outputs": [
        {
          "output_type": "stream",
          "text": [
            "[1, 4, 16, 64, 256, 1024, 4096, 16384, 65536, 262144]\n"
          ],
          "name": "stdout"
        }
      ]
    },
    {
      "cell_type": "code",
      "metadata": {
        "id": "XZL4ucFw0UW7",
        "colab_type": "code",
        "outputId": "266128df-99f3-40e3-a5ed-66cd07cb0a74",
        "colab": {}
      },
      "source": [
        "# Iterating Through a List\n",
        "for listItem in shoplist:\n",
        "    print(\"I like - \", listItem)"
      ],
      "execution_count": 0,
      "outputs": [
        {
          "output_type": "stream",
          "text": [
            "I like -  apple\n",
            "I like -  b\n",
            "I like -  banana\n",
            "I like -  c\n",
            "I like -  carrot\n",
            "I like -  chair\n",
            "I like -  mango\n",
            "I like -  pen\n",
            "I like -  rice\n",
            "I like -  table\n"
          ],
          "name": "stdout"
        }
      ]
    },
    {
      "cell_type": "code",
      "metadata": {
        "id": "-FZzEReq0UXB",
        "colab_type": "code",
        "colab": {}
      },
      "source": [
        "'''\n",
        "Built-in Functions with List\n",
        "all()\tReturn True if all elements of the list are true \n",
        "        (or if the list is empty).\n",
        "any()\tReturn True if any element of the list is true. \n",
        "        If the list is empty, return False.\n",
        "enumerate()\tReturn an enumerate object. It contains the index \n",
        "            and value of all the items of list as a tuple.\n",
        "len()\tReturn the length (the number of items) in the list.\n",
        "list()\tConvert an iterable (tuple, string, set, dictionary) to a list.\n",
        "max()\tReturn the largest item in the list.\n",
        "min()\tReturn the smallest item in the list\n",
        "sorted()\tReturn a new sorted list (does not sort the list itself).\n",
        "sum()\tReturn the sum of all elements in the list.\n",
        "'''"
      ],
      "execution_count": 0,
      "outputs": []
    },
    {
      "cell_type": "code",
      "metadata": {
        "id": "KSgiIm7p0UXH",
        "colab_type": "code",
        "outputId": "06f5bb61-4150-4170-a095-9d081c1e2465",
        "colab": {}
      },
      "source": [
        "lst = [1, 2, 3, 4, 1, 3, 2, False]\n",
        "all(lst)"
      ],
      "execution_count": 0,
      "outputs": [
        {
          "output_type": "execute_result",
          "data": {
            "text/plain": [
              "False"
            ]
          },
          "metadata": {
            "tags": []
          },
          "execution_count": 56
        }
      ]
    },
    {
      "cell_type": "code",
      "metadata": {
        "id": "vitOAi6p0UXO",
        "colab_type": "code",
        "outputId": "8be9314a-9994-43c9-ce6a-6e6f0285db33",
        "colab": {}
      },
      "source": [
        "# enumerate()\n",
        "grocery = ['bread', 'milk', 'butter']\n",
        "\n",
        "enumerateGrocery = enumerate(grocery)\n",
        "\n",
        "print(list(enumerateGrocery))"
      ],
      "execution_count": 0,
      "outputs": [
        {
          "output_type": "stream",
          "text": [
            "[(0, 'bread'), (1, 'milk'), (2, 'butter')]\n"
          ],
          "name": "stdout"
        }
      ]
    },
    {
      "cell_type": "code",
      "metadata": {
        "id": "afEVKySP0UXS",
        "colab_type": "code",
        "outputId": "e8b1eb45-d4e7-4d76-be36-81b1a939da17",
        "colab": {}
      },
      "source": [
        "enumerateGrocery = enumerate(grocery, 100)\n",
        "\n",
        "print(list(enumerateGrocery))"
      ],
      "execution_count": 0,
      "outputs": [
        {
          "output_type": "stream",
          "text": [
            "[(100, 'bread'), (101, 'milk'), (102, 'butter')]\n"
          ],
          "name": "stdout"
        }
      ]
    },
    {
      "cell_type": "code",
      "metadata": {
        "id": "HsrWF8IX0UXe",
        "colab_type": "code",
        "colab": {}
      },
      "source": [
        "# Looping Over an Enumerate object\n",
        "for item in enumerateGrocery:\n",
        "    print(item)"
      ],
      "execution_count": 0,
      "outputs": []
    },
    {
      "cell_type": "code",
      "metadata": {
        "id": "lrIW0Ie60UXj",
        "colab_type": "code",
        "outputId": "0f82a7fa-49e7-4b96-fccd-88e48f301f58",
        "colab": {}
      },
      "source": [
        "# len()\n",
        "grocery = ['bread', 'milk', 'butter']\n",
        "len(grocery)\n"
      ],
      "execution_count": 0,
      "outputs": [
        {
          "output_type": "execute_result",
          "data": {
            "text/plain": [
              "3"
            ]
          },
          "metadata": {
            "tags": []
          },
          "execution_count": 30
        }
      ]
    },
    {
      "cell_type": "code",
      "metadata": {
        "id": "UqHzRnJ60UXp",
        "colab_type": "code",
        "outputId": "c15dbaac-fd50-4876-e898-f95f8d87f369",
        "colab": {}
      },
      "source": [
        "max(grocery)\n"
      ],
      "execution_count": 0,
      "outputs": [
        {
          "output_type": "execute_result",
          "data": {
            "text/plain": [
              "'milk'"
            ]
          },
          "metadata": {
            "tags": []
          },
          "execution_count": 31
        }
      ]
    },
    {
      "cell_type": "code",
      "metadata": {
        "id": "qvWED2zN0UXu",
        "colab_type": "code",
        "outputId": "c43ee8f7-e554-41a2-b8b5-067d00dcdc7b",
        "colab": {}
      },
      "source": [
        "min(grocery)"
      ],
      "execution_count": 0,
      "outputs": [
        {
          "output_type": "execute_result",
          "data": {
            "text/plain": [
              "'bread'"
            ]
          },
          "metadata": {
            "tags": []
          },
          "execution_count": 100
        }
      ]
    },
    {
      "cell_type": "code",
      "metadata": {
        "id": "JWZ6CvSA0UX2",
        "colab_type": "code",
        "colab": {}
      },
      "source": [
        ""
      ],
      "execution_count": 0,
      "outputs": []
    }
  ]
}